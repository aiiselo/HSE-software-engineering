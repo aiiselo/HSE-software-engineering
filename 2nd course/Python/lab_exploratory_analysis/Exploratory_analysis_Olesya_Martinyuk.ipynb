{
 "cells": [
  {
   "cell_type": "markdown",
   "metadata": {},
   "source": [
    "# <center> Майнор \"Интеллектуальный анализ данных\" </center>"
   ]
  },
  {
   "cell_type": "markdown",
   "metadata": {},
   "source": [
    "# <center> Курс \"Введение в анализ данных\" </center>"
   ]
  },
  {
   "cell_type": "markdown",
   "metadata": {},
   "source": [
    "# <center> Лабораторная работа №1. Обработка и первичный анализ данных </center>"
   ]
  },
  {
   "cell_type": "markdown",
   "metadata": {},
   "source": [
    "## Данные"
   ]
  },
  {
   "cell_type": "markdown",
   "metadata": {},
   "source": [
    "В рамках данной лабораторной работы вам предлагается проанализировать набор данных о студентах двух школ в Португалии.  \n",
    "В файле `students_data.csv` представлена информация о студентах, посещающих два курса - математику (`Math`) и поргутальский язык (`Por`). Некоторые студенты представлены в обоих курсах, некоторые - только в одном. Для каждого студента известны три оценки по курсу: оценка за первое полугодие (`G1`), оценка за второе полугодие (`G2`) и итоговая оценка за год (`G3`)."
   ]
  },
  {
   "cell_type": "code",
   "execution_count": 552,
   "metadata": {},
   "outputs": [
    {
     "name": "stdout",
     "output_type": "stream",
     "text": [
      "Requirement already satisfied: seaborn in /Library/Frameworks/Python.framework/Versions/3.7/lib/python3.7/site-packages (0.10.0)\n",
      "Requirement already satisfied: scipy>=1.0.1 in /Library/Frameworks/Python.framework/Versions/3.7/lib/python3.7/site-packages (from seaborn) (1.4.1)\n",
      "Requirement already satisfied: numpy>=1.13.3 in /Library/Frameworks/Python.framework/Versions/3.7/lib/python3.7/site-packages (from seaborn) (1.17.4)\n",
      "Requirement already satisfied: pandas>=0.22.0 in /Library/Frameworks/Python.framework/Versions/3.7/lib/python3.7/site-packages (from seaborn) (0.25.3)\n",
      "Requirement already satisfied: matplotlib>=2.1.2 in /Library/Frameworks/Python.framework/Versions/3.7/lib/python3.7/site-packages (from seaborn) (3.1.2)\n",
      "Requirement already satisfied: pytz>=2017.2 in /Library/Frameworks/Python.framework/Versions/3.7/lib/python3.7/site-packages (from pandas>=0.22.0->seaborn) (2019.3)\n",
      "Requirement already satisfied: python-dateutil>=2.6.1 in /Library/Frameworks/Python.framework/Versions/3.7/lib/python3.7/site-packages (from pandas>=0.22.0->seaborn) (2.8.1)\n",
      "Requirement already satisfied: pyparsing!=2.0.4,!=2.1.2,!=2.1.6,>=2.0.1 in /Library/Frameworks/Python.framework/Versions/3.7/lib/python3.7/site-packages (from matplotlib>=2.1.2->seaborn) (2.4.5)\n",
      "Requirement already satisfied: kiwisolver>=1.0.1 in /Library/Frameworks/Python.framework/Versions/3.7/lib/python3.7/site-packages (from matplotlib>=2.1.2->seaborn) (1.1.0)\n",
      "Requirement already satisfied: cycler>=0.10 in /Library/Frameworks/Python.framework/Versions/3.7/lib/python3.7/site-packages (from matplotlib>=2.1.2->seaborn) (0.10.0)\n",
      "Requirement already satisfied: six>=1.5 in /Library/Frameworks/Python.framework/Versions/3.7/lib/python3.7/site-packages (from python-dateutil>=2.6.1->pandas>=0.22.0->seaborn) (1.13.0)\n",
      "Requirement already satisfied: setuptools in /Library/Frameworks/Python.framework/Versions/3.7/lib/python3.7/site-packages (from kiwisolver>=1.0.1->matplotlib>=2.1.2->seaborn) (42.0.2)\n",
      "Note: you may need to restart the kernel to use updated packages.\n"
     ]
    }
   ],
   "source": [
    "pip install seaborn"
   ]
  },
  {
   "cell_type": "code",
   "execution_count": 553,
   "metadata": {},
   "outputs": [],
   "source": [
    "import pandas as pd\n",
    "import numpy\n",
    "import pylab\n",
    "import seaborn\n",
    "import matplotlib.pyplot as plt"
   ]
  },
  {
   "cell_type": "code",
   "execution_count": 554,
   "metadata": {},
   "outputs": [],
   "source": [
    "pd.set_option('display.max_columns', 40)\n",
    "pd.set_option('display.max_colwidth', -1)"
   ]
  },
  {
   "cell_type": "code",
   "execution_count": 555,
   "metadata": {},
   "outputs": [
    {
     "data": {
      "text/plain": [
       "(1044, 36)"
      ]
     },
     "execution_count": 555,
     "metadata": {},
     "output_type": "execute_result"
    }
   ],
   "source": [
    "data = pd.read_csv(\"/Users/olesyamartinyuk/Downloads/students_data.csv\")\n",
    "data.shape"
   ]
  },
  {
   "cell_type": "code",
   "execution_count": 556,
   "metadata": {
    "scrolled": true
   },
   "outputs": [
    {
     "data": {
      "text/html": [
       "<div>\n",
       "<style scoped>\n",
       "    .dataframe tbody tr th:only-of-type {\n",
       "        vertical-align: middle;\n",
       "    }\n",
       "\n",
       "    .dataframe tbody tr th {\n",
       "        vertical-align: top;\n",
       "    }\n",
       "\n",
       "    .dataframe thead th {\n",
       "        text-align: right;\n",
       "    }\n",
       "</style>\n",
       "<table border=\"1\" class=\"dataframe\">\n",
       "  <thead>\n",
       "    <tr style=\"text-align: right;\">\n",
       "      <th></th>\n",
       "      <th>ID</th>\n",
       "      <th>Subject</th>\n",
       "      <th>school</th>\n",
       "      <th>sex</th>\n",
       "      <th>age</th>\n",
       "      <th>address</th>\n",
       "      <th>famsize</th>\n",
       "      <th>Pstatus</th>\n",
       "      <th>Medu</th>\n",
       "      <th>Fedu</th>\n",
       "      <th>Mjob</th>\n",
       "      <th>Fjob</th>\n",
       "      <th>reason</th>\n",
       "      <th>guardian</th>\n",
       "      <th>traveltime</th>\n",
       "      <th>studytime</th>\n",
       "      <th>failures</th>\n",
       "      <th>schoolsup</th>\n",
       "      <th>famsup</th>\n",
       "      <th>paid</th>\n",
       "      <th>activities</th>\n",
       "      <th>nursery</th>\n",
       "      <th>higher</th>\n",
       "      <th>internet</th>\n",
       "      <th>romantic</th>\n",
       "      <th>famrel</th>\n",
       "      <th>freetime</th>\n",
       "      <th>goout</th>\n",
       "      <th>Dalc</th>\n",
       "      <th>Walc</th>\n",
       "      <th>health</th>\n",
       "      <th>absences</th>\n",
       "      <th>cheating</th>\n",
       "      <th>G1</th>\n",
       "      <th>G2</th>\n",
       "      <th>G3</th>\n",
       "    </tr>\n",
       "  </thead>\n",
       "  <tbody>\n",
       "    <tr>\n",
       "      <th>0</th>\n",
       "      <td>100097</td>\n",
       "      <td>Por</td>\n",
       "      <td>GP</td>\n",
       "      <td>F</td>\n",
       "      <td>16</td>\n",
       "      <td>U</td>\n",
       "      <td>GT3</td>\n",
       "      <td>A</td>\n",
       "      <td>3</td>\n",
       "      <td>4</td>\n",
       "      <td>services</td>\n",
       "      <td>other</td>\n",
       "      <td>course</td>\n",
       "      <td>father</td>\n",
       "      <td>1</td>\n",
       "      <td>1</td>\n",
       "      <td>0</td>\n",
       "      <td>no</td>\n",
       "      <td>no</td>\n",
       "      <td>no</td>\n",
       "      <td>no</td>\n",
       "      <td>yes</td>\n",
       "      <td>yes</td>\n",
       "      <td>yes</td>\n",
       "      <td>no</td>\n",
       "      <td>3.0</td>\n",
       "      <td>2</td>\n",
       "      <td>1</td>\n",
       "      <td>1.0</td>\n",
       "      <td>4.0</td>\n",
       "      <td>5</td>\n",
       "      <td>12</td>\n",
       "      <td>NaN</td>\n",
       "      <td>15</td>\n",
       "      <td>13</td>\n",
       "      <td>14</td>\n",
       "    </tr>\n",
       "    <tr>\n",
       "      <th>1</th>\n",
       "      <td>101021</td>\n",
       "      <td>Por</td>\n",
       "      <td>GP</td>\n",
       "      <td>F</td>\n",
       "      <td>17</td>\n",
       "      <td>U</td>\n",
       "      <td>GT3</td>\n",
       "      <td>T</td>\n",
       "      <td>3</td>\n",
       "      <td>2</td>\n",
       "      <td>other</td>\n",
       "      <td>other</td>\n",
       "      <td>course</td>\n",
       "      <td>mother</td>\n",
       "      <td>1</td>\n",
       "      <td>2</td>\n",
       "      <td>0</td>\n",
       "      <td>no</td>\n",
       "      <td>no</td>\n",
       "      <td>no</td>\n",
       "      <td>yes</td>\n",
       "      <td>no</td>\n",
       "      <td>yes</td>\n",
       "      <td>yes</td>\n",
       "      <td>no</td>\n",
       "      <td>5.0</td>\n",
       "      <td>3</td>\n",
       "      <td>4</td>\n",
       "      <td>1.0</td>\n",
       "      <td>3.0</td>\n",
       "      <td>3</td>\n",
       "      <td>2</td>\n",
       "      <td>NaN</td>\n",
       "      <td>17</td>\n",
       "      <td>18</td>\n",
       "      <td>17</td>\n",
       "    </tr>\n",
       "    <tr>\n",
       "      <th>2</th>\n",
       "      <td>102965</td>\n",
       "      <td>Por</td>\n",
       "      <td>GP</td>\n",
       "      <td>M</td>\n",
       "      <td>16</td>\n",
       "      <td>U</td>\n",
       "      <td>LE3</td>\n",
       "      <td>T</td>\n",
       "      <td>1</td>\n",
       "      <td>2</td>\n",
       "      <td>health</td>\n",
       "      <td>services</td>\n",
       "      <td>course</td>\n",
       "      <td>mother</td>\n",
       "      <td>2</td>\n",
       "      <td>1</td>\n",
       "      <td>2</td>\n",
       "      <td>no</td>\n",
       "      <td>no</td>\n",
       "      <td>no</td>\n",
       "      <td>no</td>\n",
       "      <td>no</td>\n",
       "      <td>yes</td>\n",
       "      <td>yes</td>\n",
       "      <td>no</td>\n",
       "      <td>4.0</td>\n",
       "      <td>4</td>\n",
       "      <td>5</td>\n",
       "      <td>3.0</td>\n",
       "      <td>5.0</td>\n",
       "      <td>5</td>\n",
       "      <td>0</td>\n",
       "      <td>yes</td>\n",
       "      <td>9</td>\n",
       "      <td>8</td>\n",
       "      <td>10</td>\n",
       "    </tr>\n",
       "    <tr>\n",
       "      <th>3</th>\n",
       "      <td>102989</td>\n",
       "      <td>Por</td>\n",
       "      <td>MS</td>\n",
       "      <td>M</td>\n",
       "      <td>17</td>\n",
       "      <td>U</td>\n",
       "      <td>GT3</td>\n",
       "      <td>T</td>\n",
       "      <td>2</td>\n",
       "      <td>3</td>\n",
       "      <td>other</td>\n",
       "      <td>services</td>\n",
       "      <td>home</td>\n",
       "      <td>father</td>\n",
       "      <td>2</td>\n",
       "      <td>2</td>\n",
       "      <td>0</td>\n",
       "      <td>no</td>\n",
       "      <td>no</td>\n",
       "      <td>no</td>\n",
       "      <td>yes</td>\n",
       "      <td>yes</td>\n",
       "      <td>yes</td>\n",
       "      <td>yes</td>\n",
       "      <td>no</td>\n",
       "      <td>4.0</td>\n",
       "      <td>4</td>\n",
       "      <td>3</td>\n",
       "      <td>1.0</td>\n",
       "      <td>1.0</td>\n",
       "      <td>3</td>\n",
       "      <td>4</td>\n",
       "      <td>no</td>\n",
       "      <td>14</td>\n",
       "      <td>15</td>\n",
       "      <td>16</td>\n",
       "    </tr>\n",
       "    <tr>\n",
       "      <th>4</th>\n",
       "      <td>103131</td>\n",
       "      <td>Por</td>\n",
       "      <td>GP</td>\n",
       "      <td>F</td>\n",
       "      <td>16</td>\n",
       "      <td>U</td>\n",
       "      <td>GT3</td>\n",
       "      <td>T</td>\n",
       "      <td>1</td>\n",
       "      <td>1</td>\n",
       "      <td>at_home</td>\n",
       "      <td>other</td>\n",
       "      <td>home</td>\n",
       "      <td>mother</td>\n",
       "      <td>2</td>\n",
       "      <td>1</td>\n",
       "      <td>0</td>\n",
       "      <td>no</td>\n",
       "      <td>yes</td>\n",
       "      <td>no</td>\n",
       "      <td>no</td>\n",
       "      <td>yes</td>\n",
       "      <td>yes</td>\n",
       "      <td>no</td>\n",
       "      <td>NaN</td>\n",
       "      <td>4.0</td>\n",
       "      <td>3</td>\n",
       "      <td>2</td>\n",
       "      <td>1.0</td>\n",
       "      <td>4.0</td>\n",
       "      <td>5</td>\n",
       "      <td>2</td>\n",
       "      <td>yes</td>\n",
       "      <td>12</td>\n",
       "      <td>13</td>\n",
       "      <td>13</td>\n",
       "    </tr>\n",
       "    <tr>\n",
       "      <th>5</th>\n",
       "      <td>103144</td>\n",
       "      <td>Por</td>\n",
       "      <td>GP</td>\n",
       "      <td>M</td>\n",
       "      <td>18</td>\n",
       "      <td>U</td>\n",
       "      <td>LE3</td>\n",
       "      <td>T</td>\n",
       "      <td>3</td>\n",
       "      <td>1</td>\n",
       "      <td>services</td>\n",
       "      <td>services</td>\n",
       "      <td>course</td>\n",
       "      <td>mother</td>\n",
       "      <td>2</td>\n",
       "      <td>1</td>\n",
       "      <td>0</td>\n",
       "      <td>no</td>\n",
       "      <td>no</td>\n",
       "      <td>no</td>\n",
       "      <td>yes</td>\n",
       "      <td>yes</td>\n",
       "      <td>yes</td>\n",
       "      <td>yes</td>\n",
       "      <td>yes</td>\n",
       "      <td>3.0</td>\n",
       "      <td>3</td>\n",
       "      <td>4</td>\n",
       "      <td>4.0</td>\n",
       "      <td>5.0</td>\n",
       "      <td>4</td>\n",
       "      <td>2</td>\n",
       "      <td>NaN</td>\n",
       "      <td>11</td>\n",
       "      <td>11</td>\n",
       "      <td>12</td>\n",
       "    </tr>\n",
       "    <tr>\n",
       "      <th>6</th>\n",
       "      <td>105257</td>\n",
       "      <td>Por</td>\n",
       "      <td>MS</td>\n",
       "      <td>F</td>\n",
       "      <td>18</td>\n",
       "      <td>U</td>\n",
       "      <td>GT3</td>\n",
       "      <td>T</td>\n",
       "      <td>1</td>\n",
       "      <td>1</td>\n",
       "      <td>other</td>\n",
       "      <td>other</td>\n",
       "      <td>course</td>\n",
       "      <td>mother</td>\n",
       "      <td>2</td>\n",
       "      <td>2</td>\n",
       "      <td>0</td>\n",
       "      <td>no</td>\n",
       "      <td>no</td>\n",
       "      <td>no</td>\n",
       "      <td>yes</td>\n",
       "      <td>yes</td>\n",
       "      <td>yes</td>\n",
       "      <td>no</td>\n",
       "      <td>no</td>\n",
       "      <td>1.0</td>\n",
       "      <td>1</td>\n",
       "      <td>1</td>\n",
       "      <td>1.0</td>\n",
       "      <td>1.0</td>\n",
       "      <td>5</td>\n",
       "      <td>6</td>\n",
       "      <td>NaN</td>\n",
       "      <td>11</td>\n",
       "      <td>12</td>\n",
       "      <td>9</td>\n",
       "    </tr>\n",
       "    <tr>\n",
       "      <th>7</th>\n",
       "      <td>107639</td>\n",
       "      <td>Por</td>\n",
       "      <td>MS</td>\n",
       "      <td>F</td>\n",
       "      <td>15</td>\n",
       "      <td>R</td>\n",
       "      <td>GT3</td>\n",
       "      <td>T</td>\n",
       "      <td>4</td>\n",
       "      <td>4</td>\n",
       "      <td>teacher</td>\n",
       "      <td>other</td>\n",
       "      <td>course</td>\n",
       "      <td>mother</td>\n",
       "      <td>2</td>\n",
       "      <td>1</td>\n",
       "      <td>0</td>\n",
       "      <td>no</td>\n",
       "      <td>no</td>\n",
       "      <td>no</td>\n",
       "      <td>no</td>\n",
       "      <td>yes</td>\n",
       "      <td>yes</td>\n",
       "      <td>yes</td>\n",
       "      <td>yes</td>\n",
       "      <td>1.0</td>\n",
       "      <td>5</td>\n",
       "      <td>1</td>\n",
       "      <td>3.0</td>\n",
       "      <td>5.0</td>\n",
       "      <td>5</td>\n",
       "      <td>0</td>\n",
       "      <td>NaN</td>\n",
       "      <td>13</td>\n",
       "      <td>14</td>\n",
       "      <td>14</td>\n",
       "    </tr>\n",
       "    <tr>\n",
       "      <th>8</th>\n",
       "      <td>107914</td>\n",
       "      <td>Math</td>\n",
       "      <td>GP</td>\n",
       "      <td>F</td>\n",
       "      <td>15</td>\n",
       "      <td>U</td>\n",
       "      <td>LE3</td>\n",
       "      <td>T</td>\n",
       "      <td>3</td>\n",
       "      <td>2</td>\n",
       "      <td>services</td>\n",
       "      <td>other</td>\n",
       "      <td>reputation</td>\n",
       "      <td>mother</td>\n",
       "      <td>1</td>\n",
       "      <td>2</td>\n",
       "      <td>0</td>\n",
       "      <td>no</td>\n",
       "      <td>yes</td>\n",
       "      <td>yes</td>\n",
       "      <td>no</td>\n",
       "      <td>yes</td>\n",
       "      <td>yes</td>\n",
       "      <td>yes</td>\n",
       "      <td>no</td>\n",
       "      <td>4.0</td>\n",
       "      <td>4</td>\n",
       "      <td>4</td>\n",
       "      <td>1.0</td>\n",
       "      <td>1.0</td>\n",
       "      <td>5</td>\n",
       "      <td>10</td>\n",
       "      <td>no</td>\n",
       "      <td>7</td>\n",
       "      <td>6</td>\n",
       "      <td>6</td>\n",
       "    </tr>\n",
       "    <tr>\n",
       "      <th>9</th>\n",
       "      <td>108089</td>\n",
       "      <td>Por</td>\n",
       "      <td>MS</td>\n",
       "      <td>M</td>\n",
       "      <td>16</td>\n",
       "      <td>R</td>\n",
       "      <td>GT3</td>\n",
       "      <td>T</td>\n",
       "      <td>3</td>\n",
       "      <td>4</td>\n",
       "      <td>other</td>\n",
       "      <td>health</td>\n",
       "      <td>other</td>\n",
       "      <td>mother</td>\n",
       "      <td>3</td>\n",
       "      <td>2</td>\n",
       "      <td>0</td>\n",
       "      <td>no</td>\n",
       "      <td>no</td>\n",
       "      <td>no</td>\n",
       "      <td>no</td>\n",
       "      <td>no</td>\n",
       "      <td>yes</td>\n",
       "      <td>no</td>\n",
       "      <td>no</td>\n",
       "      <td>3.0</td>\n",
       "      <td>4</td>\n",
       "      <td>5</td>\n",
       "      <td>1.0</td>\n",
       "      <td>2.0</td>\n",
       "      <td>5</td>\n",
       "      <td>4</td>\n",
       "      <td>NaN</td>\n",
       "      <td>9</td>\n",
       "      <td>10</td>\n",
       "      <td>11</td>\n",
       "    </tr>\n",
       "    <tr>\n",
       "      <th>10</th>\n",
       "      <td>108254</td>\n",
       "      <td>Por</td>\n",
       "      <td>GP</td>\n",
       "      <td>M</td>\n",
       "      <td>15</td>\n",
       "      <td>U</td>\n",
       "      <td>LE3</td>\n",
       "      <td>T</td>\n",
       "      <td>4</td>\n",
       "      <td>4</td>\n",
       "      <td>health</td>\n",
       "      <td>services</td>\n",
       "      <td>course</td>\n",
       "      <td>father</td>\n",
       "      <td>1</td>\n",
       "      <td>1</td>\n",
       "      <td>0</td>\n",
       "      <td>no</td>\n",
       "      <td>yes</td>\n",
       "      <td>no</td>\n",
       "      <td>yes</td>\n",
       "      <td>yes</td>\n",
       "      <td>yes</td>\n",
       "      <td>yes</td>\n",
       "      <td>no</td>\n",
       "      <td>4.0</td>\n",
       "      <td>3</td>\n",
       "      <td>3</td>\n",
       "      <td>1.0</td>\n",
       "      <td>3.0</td>\n",
       "      <td>5</td>\n",
       "      <td>0</td>\n",
       "      <td>NaN</td>\n",
       "      <td>12</td>\n",
       "      <td>13</td>\n",
       "      <td>12</td>\n",
       "    </tr>\n",
       "    <tr>\n",
       "      <th>11</th>\n",
       "      <td>108296</td>\n",
       "      <td>Por</td>\n",
       "      <td>GP</td>\n",
       "      <td>M</td>\n",
       "      <td>18</td>\n",
       "      <td>U</td>\n",
       "      <td>LE3</td>\n",
       "      <td>T</td>\n",
       "      <td>3</td>\n",
       "      <td>4</td>\n",
       "      <td>services</td>\n",
       "      <td>other</td>\n",
       "      <td>home</td>\n",
       "      <td>mother</td>\n",
       "      <td>1</td>\n",
       "      <td>2</td>\n",
       "      <td>0</td>\n",
       "      <td>no</td>\n",
       "      <td>no</td>\n",
       "      <td>no</td>\n",
       "      <td>yes</td>\n",
       "      <td>yes</td>\n",
       "      <td>yes</td>\n",
       "      <td>yes</td>\n",
       "      <td>yes</td>\n",
       "      <td>4.0</td>\n",
       "      <td>3</td>\n",
       "      <td>3</td>\n",
       "      <td>1.0</td>\n",
       "      <td>3.0</td>\n",
       "      <td>5</td>\n",
       "      <td>6</td>\n",
       "      <td>no</td>\n",
       "      <td>16</td>\n",
       "      <td>16</td>\n",
       "      <td>17</td>\n",
       "    </tr>\n",
       "    <tr>\n",
       "      <th>12</th>\n",
       "      <td>108753</td>\n",
       "      <td>Math</td>\n",
       "      <td>MS</td>\n",
       "      <td>F</td>\n",
       "      <td>18</td>\n",
       "      <td>R</td>\n",
       "      <td>GT3</td>\n",
       "      <td>T</td>\n",
       "      <td>4</td>\n",
       "      <td>4</td>\n",
       "      <td>teacher</td>\n",
       "      <td>at-home</td>\n",
       "      <td>reputation</td>\n",
       "      <td>mother</td>\n",
       "      <td>3</td>\n",
       "      <td>1</td>\n",
       "      <td>0</td>\n",
       "      <td>no</td>\n",
       "      <td>yes</td>\n",
       "      <td>yes</td>\n",
       "      <td>yes</td>\n",
       "      <td>yes</td>\n",
       "      <td>yes</td>\n",
       "      <td>yes</td>\n",
       "      <td>yes</td>\n",
       "      <td>4.0</td>\n",
       "      <td>4</td>\n",
       "      <td>3</td>\n",
       "      <td>2.0</td>\n",
       "      <td>2.0</td>\n",
       "      <td>5</td>\n",
       "      <td>7</td>\n",
       "      <td>NaN</td>\n",
       "      <td>6</td>\n",
       "      <td>5</td>\n",
       "      <td>6</td>\n",
       "    </tr>\n",
       "    <tr>\n",
       "      <th>13</th>\n",
       "      <td>108825</td>\n",
       "      <td>Por</td>\n",
       "      <td>GP</td>\n",
       "      <td>M</td>\n",
       "      <td>15</td>\n",
       "      <td>U</td>\n",
       "      <td>GT3</td>\n",
       "      <td>T</td>\n",
       "      <td>4</td>\n",
       "      <td>3</td>\n",
       "      <td>teacher</td>\n",
       "      <td>other</td>\n",
       "      <td>home</td>\n",
       "      <td>mother</td>\n",
       "      <td>1</td>\n",
       "      <td>2</td>\n",
       "      <td>0</td>\n",
       "      <td>no</td>\n",
       "      <td>yes</td>\n",
       "      <td>no</td>\n",
       "      <td>yes</td>\n",
       "      <td>yes</td>\n",
       "      <td>yes</td>\n",
       "      <td>yes</td>\n",
       "      <td>no</td>\n",
       "      <td>4.0</td>\n",
       "      <td>3</td>\n",
       "      <td>3</td>\n",
       "      <td>2.0</td>\n",
       "      <td>3.0</td>\n",
       "      <td>5</td>\n",
       "      <td>0</td>\n",
       "      <td>yes</td>\n",
       "      <td>11</td>\n",
       "      <td>11</td>\n",
       "      <td>11</td>\n",
       "    </tr>\n",
       "    <tr>\n",
       "      <th>14</th>\n",
       "      <td>114462</td>\n",
       "      <td>Math</td>\n",
       "      <td>GP</td>\n",
       "      <td>F</td>\n",
       "      <td>16</td>\n",
       "      <td>U</td>\n",
       "      <td>LE3</td>\n",
       "      <td>T</td>\n",
       "      <td>2</td>\n",
       "      <td>2</td>\n",
       "      <td>at_home</td>\n",
       "      <td>other</td>\n",
       "      <td>course</td>\n",
       "      <td>mother</td>\n",
       "      <td>1</td>\n",
       "      <td>2</td>\n",
       "      <td>0</td>\n",
       "      <td>no</td>\n",
       "      <td>yes</td>\n",
       "      <td>no</td>\n",
       "      <td>no</td>\n",
       "      <td>yes</td>\n",
       "      <td>yes</td>\n",
       "      <td>no</td>\n",
       "      <td>no</td>\n",
       "      <td>4.0</td>\n",
       "      <td>3</td>\n",
       "      <td>4</td>\n",
       "      <td>1.0</td>\n",
       "      <td>2.0</td>\n",
       "      <td>2</td>\n",
       "      <td>4</td>\n",
       "      <td>yes</td>\n",
       "      <td>8</td>\n",
       "      <td>7</td>\n",
       "      <td>6</td>\n",
       "    </tr>\n",
       "  </tbody>\n",
       "</table>\n",
       "</div>"
      ],
      "text/plain": [
       "        ID Subject school sex  age address famsize Pstatus Medu Fedu  \\\n",
       "0   100097  Por     GP     F   16   U       GT3     A       3    4     \n",
       "1   101021  Por     GP     F   17   U       GT3     T       3    2     \n",
       "2   102965  Por     GP     M   16   U       LE3     T       1    2     \n",
       "3   102989  Por     MS     M   17   U       GT3     T       2    3     \n",
       "4   103131  Por     GP     F   16   U       GT3     T       1    1     \n",
       "5   103144  Por     GP     M   18   U       LE3     T       3    1     \n",
       "6   105257  Por     MS     F   18   U       GT3     T       1    1     \n",
       "7   107639  Por     MS     F   15   R       GT3     T       4    4     \n",
       "8   107914  Math    GP     F   15   U       LE3     T       3    2     \n",
       "9   108089  Por     MS     M   16   R       GT3     T       3    4     \n",
       "10  108254  Por     GP     M   15   U       LE3     T       4    4     \n",
       "11  108296  Por     GP     M   18   U       LE3     T       3    4     \n",
       "12  108753  Math    MS     F   18   R       GT3     T       4    4     \n",
       "13  108825  Por     GP     M   15   U       GT3     T       4    3     \n",
       "14  114462  Math    GP     F   16   U       LE3     T       2    2     \n",
       "\n",
       "        Mjob      Fjob      reason guardian  traveltime  studytime  failures  \\\n",
       "0   services  other     course      father   1           1          0          \n",
       "1   other     other     course      mother   1           2          0          \n",
       "2   health    services  course      mother   2           1          2          \n",
       "3   other     services  home        father   2           2          0          \n",
       "4   at_home   other     home        mother   2           1          0          \n",
       "5   services  services  course      mother   2           1          0          \n",
       "6   other     other     course      mother   2           2          0          \n",
       "7   teacher   other     course      mother   2           1          0          \n",
       "8   services  other     reputation  mother   1           2          0          \n",
       "9   other     health    other       mother   3           2          0          \n",
       "10  health    services  course      father   1           1          0          \n",
       "11  services  other     home        mother   1           2          0          \n",
       "12  teacher   at-home   reputation  mother   3           1          0          \n",
       "13  teacher   other     home        mother   1           2          0          \n",
       "14  at_home   other     course      mother   1           2          0          \n",
       "\n",
       "   schoolsup famsup paid activities nursery higher internet romantic  famrel  \\\n",
       "0   no        no     no   no         yes     yes    yes      no       3.0      \n",
       "1   no        no     no   yes        no      yes    yes      no       5.0      \n",
       "2   no        no     no   no         no      yes    yes      no       4.0      \n",
       "3   no        no     no   yes        yes     yes    yes      no       4.0      \n",
       "4   no        yes    no   no         yes     yes    no       NaN      4.0      \n",
       "5   no        no     no   yes        yes     yes    yes      yes      3.0      \n",
       "6   no        no     no   yes        yes     yes    no       no       1.0      \n",
       "7   no        no     no   no         yes     yes    yes      yes      1.0      \n",
       "8   no        yes    yes  no         yes     yes    yes      no       4.0      \n",
       "9   no        no     no   no         no      yes    no       no       3.0      \n",
       "10  no        yes    no   yes        yes     yes    yes      no       4.0      \n",
       "11  no        no     no   yes        yes     yes    yes      yes      4.0      \n",
       "12  no        yes    yes  yes        yes     yes    yes      yes      4.0      \n",
       "13  no        yes    no   yes        yes     yes    yes      no       4.0      \n",
       "14  no        yes    no   no         yes     yes    no       no       4.0      \n",
       "\n",
       "    freetime  goout  Dalc  Walc  health  absences cheating  G1  G2  G3  \n",
       "0   2         1      1.0   4.0   5       12        NaN      15  13  14  \n",
       "1   3         4      1.0   3.0   3       2         NaN      17  18  17  \n",
       "2   4         5      3.0   5.0   5       0         yes      9   8   10  \n",
       "3   4         3      1.0   1.0   3       4         no       14  15  16  \n",
       "4   3         2      1.0   4.0   5       2         yes      12  13  13  \n",
       "5   3         4      4.0   5.0   4       2         NaN      11  11  12  \n",
       "6   1         1      1.0   1.0   5       6         NaN      11  12  9   \n",
       "7   5         1      3.0   5.0   5       0         NaN      13  14  14  \n",
       "8   4         4      1.0   1.0   5       10        no       7   6   6   \n",
       "9   4         5      1.0   2.0   5       4         NaN      9   10  11  \n",
       "10  3         3      1.0   3.0   5       0         NaN      12  13  12  \n",
       "11  3         3      1.0   3.0   5       6         no       16  16  17  \n",
       "12  4         3      2.0   2.0   5       7         NaN      6   5   6   \n",
       "13  3         3      2.0   3.0   5       0         yes      11  11  11  \n",
       "14  3         4      1.0   2.0   2       4         yes      8   7   6   "
      ]
     },
     "execution_count": 556,
     "metadata": {},
     "output_type": "execute_result"
    }
   ],
   "source": [
    "data.head(15)"
   ]
  },
  {
   "cell_type": "markdown",
   "metadata": {},
   "source": [
    "### Признаки"
   ]
  },
  {
   "cell_type": "markdown",
   "metadata": {},
   "source": [
    "Данные представлены признаками различных типов: числовыми, категориальными, упорядоченными категориальными."
   ]
  },
  {
   "cell_type": "markdown",
   "metadata": {},
   "source": [
    "**Описание признаков:**"
   ]
  },
  {
   "cell_type": "code",
   "execution_count": 557,
   "metadata": {},
   "outputs": [
    {
     "data": {
      "text/html": [
       "<div>\n",
       "<style scoped>\n",
       "    .dataframe tbody tr th:only-of-type {\n",
       "        vertical-align: middle;\n",
       "    }\n",
       "\n",
       "    .dataframe tbody tr th {\n",
       "        vertical-align: top;\n",
       "    }\n",
       "\n",
       "    .dataframe thead th {\n",
       "        text-align: right;\n",
       "    }\n",
       "</style>\n",
       "<table border=\"1\" class=\"dataframe\">\n",
       "  <thead>\n",
       "    <tr style=\"text-align: right;\">\n",
       "      <th></th>\n",
       "      <th>Признак</th>\n",
       "      <th>Описание</th>\n",
       "    </tr>\n",
       "  </thead>\n",
       "  <tbody>\n",
       "    <tr>\n",
       "      <th>0</th>\n",
       "      <td>ID</td>\n",
       "      <td>Уникальный номер наблюдения</td>\n",
       "    </tr>\n",
       "    <tr>\n",
       "      <th>1</th>\n",
       "      <td>Subject</td>\n",
       "      <td>Предмет: 'Math' - математика, 'Por' - португальский язык</td>\n",
       "    </tr>\n",
       "    <tr>\n",
       "      <th>2</th>\n",
       "      <td>school</td>\n",
       "      <td>Школа: 'GP' - Gabriel Pereira, 'MS' - Mousinho da Silveira</td>\n",
       "    </tr>\n",
       "    <tr>\n",
       "      <th>3</th>\n",
       "      <td>sex</td>\n",
       "      <td>Пол студента: 'F' - женский, 'M' - мужской</td>\n",
       "    </tr>\n",
       "    <tr>\n",
       "      <th>4</th>\n",
       "      <td>age</td>\n",
       "      <td>Возраст студента</td>\n",
       "    </tr>\n",
       "    <tr>\n",
       "      <th>5</th>\n",
       "      <td>address</td>\n",
       "      <td>Место проживания студента: 'U' - в городе, 'R' - за городом</td>\n",
       "    </tr>\n",
       "    <tr>\n",
       "      <th>6</th>\n",
       "      <td>famsize</td>\n",
       "      <td>Число членов семьи: 'LE3' - если &lt;= 3, 'GT3' - если &gt; 3</td>\n",
       "    </tr>\n",
       "    <tr>\n",
       "      <th>7</th>\n",
       "      <td>Pstatus</td>\n",
       "      <td>Отношения родителей: 'T' - живут вместе, 'A' - живут раздельно</td>\n",
       "    </tr>\n",
       "    <tr>\n",
       "      <th>8</th>\n",
       "      <td>Medu</td>\n",
       "      <td>Образование матери: 0 - без образования, 1 - начальная школа, 2 – от 5 до 9 классов, 3 – среднее образование, 4 – высшее образование</td>\n",
       "    </tr>\n",
       "    <tr>\n",
       "      <th>9</th>\n",
       "      <td>Fedu</td>\n",
       "      <td>Образование отца: 0 - без образования, 1 - начальная школа, 2 – от 5 до 9 классов, 3 – среднее образование, 4 – высшее образование</td>\n",
       "    </tr>\n",
       "    <tr>\n",
       "      <th>10</th>\n",
       "      <td>Mjob</td>\n",
       "      <td>Работа матери: 'teacher' - связана с преподаванием, 'health'  - связана с здравоохранением, 'services' - администрация и полиция, 'at_home' - домашняя занятость, 'other' - другое</td>\n",
       "    </tr>\n",
       "    <tr>\n",
       "      <th>11</th>\n",
       "      <td>Fjob</td>\n",
       "      <td>Работа отца: 'teacher' - связана с преподаванием, 'health'  - связана с здравоохранением, 'services' - администрация и полиция, 'at_home' - домашняя занятость, 'other' - другое</td>\n",
       "    </tr>\n",
       "    <tr>\n",
       "      <th>12</th>\n",
       "      <td>reason</td>\n",
       "      <td>Причина, по которой студент выбрал данную школу: 'home' - рядом с домом, 'reputation' - репутация школы, 'course' - читаемые курсы, 'other' - другое</td>\n",
       "    </tr>\n",
       "    <tr>\n",
       "      <th>13</th>\n",
       "      <td>guardian</td>\n",
       "      <td>Опекун студента (student's guardian): 'mother', 'father' или 'other'</td>\n",
       "    </tr>\n",
       "    <tr>\n",
       "      <th>14</th>\n",
       "      <td>traveltime</td>\n",
       "      <td>Время в пути от дома до школы: 1 - &lt; 15 мин, 2 - от 15 до 30 мин, 3 - от 30 мин до 1 часа, 4 - &gt; 1 часа</td>\n",
       "    </tr>\n",
       "    <tr>\n",
       "      <th>15</th>\n",
       "      <td>studytime</td>\n",
       "      <td>Количество часов на учебу в неделю: 1 - &lt; 2 часов, 2 - от 2 до 5 часов, 3 - от 5 до 10 часов, 4 - &gt; 10 часов</td>\n",
       "    </tr>\n",
       "    <tr>\n",
       "      <th>16</th>\n",
       "      <td>failures</td>\n",
       "      <td>Число завалов студента по предыдущим курсам:  n если 1&lt;=n&lt;3, иначе 4</td>\n",
       "    </tr>\n",
       "    <tr>\n",
       "      <th>17</th>\n",
       "      <td>schoolsup</td>\n",
       "      <td>Дополнительная помощь в учебе: yes или no</td>\n",
       "    </tr>\n",
       "    <tr>\n",
       "      <th>18</th>\n",
       "      <td>famsup</td>\n",
       "      <td>Дополнительная помощь в учебе от членов семьи: yes или no</td>\n",
       "    </tr>\n",
       "    <tr>\n",
       "      <th>19</th>\n",
       "      <td>paid</td>\n",
       "      <td>Платные дополнительные занятия по соответствущему курсу ('Math' или 'Por'): yes или no</td>\n",
       "    </tr>\n",
       "    <tr>\n",
       "      <th>20</th>\n",
       "      <td>activities</td>\n",
       "      <td>Внеучебные активности: yes или no</td>\n",
       "    </tr>\n",
       "    <tr>\n",
       "      <th>21</th>\n",
       "      <td>nursery</td>\n",
       "      <td>Ходил в детстве в детский сад: yes или no</td>\n",
       "    </tr>\n",
       "    <tr>\n",
       "      <th>22</th>\n",
       "      <td>higher</td>\n",
       "      <td>Собирается получать высшее образование: yes или no</td>\n",
       "    </tr>\n",
       "    <tr>\n",
       "      <th>23</th>\n",
       "      <td>internet</td>\n",
       "      <td>Есть доступ к всемирной сети из дома: yes или no</td>\n",
       "    </tr>\n",
       "    <tr>\n",
       "      <th>24</th>\n",
       "      <td>romantic</td>\n",
       "      <td>Состоит в романтических отношениях: yes или no</td>\n",
       "    </tr>\n",
       "    <tr>\n",
       "      <th>25</th>\n",
       "      <td>famrel</td>\n",
       "      <td>Отношения в семье: от 1 - очень плохие, до 5 - прекрасные</td>\n",
       "    </tr>\n",
       "    <tr>\n",
       "      <th>26</th>\n",
       "      <td>freetime</td>\n",
       "      <td>Свободное время после занятий: от 1 - очень мало, до 5 - очень много</td>\n",
       "    </tr>\n",
       "    <tr>\n",
       "      <th>27</th>\n",
       "      <td>goout</td>\n",
       "      <td>Проводит время с друзьями: от 1 - очень редко/мало, до 5 - очень часто/много</td>\n",
       "    </tr>\n",
       "    <tr>\n",
       "      <th>28</th>\n",
       "      <td>Dalc</td>\n",
       "      <td>Потребление алкоголя в будни: от 1 - очень мало, до 5 - очень много</td>\n",
       "    </tr>\n",
       "    <tr>\n",
       "      <th>29</th>\n",
       "      <td>Walc</td>\n",
       "      <td>Потребление алкоголя в выходные: от 1 - очень мало, до 5 - очень много</td>\n",
       "    </tr>\n",
       "    <tr>\n",
       "      <th>30</th>\n",
       "      <td>health</td>\n",
       "      <td>Состояние здоровья: от 1 - очень плохое, до 5  - очень хорошее</td>\n",
       "    </tr>\n",
       "    <tr>\n",
       "      <th>31</th>\n",
       "      <td>absences</td>\n",
       "      <td>Число пропусков: сколько раз пропустил занятия в школе</td>\n",
       "    </tr>\n",
       "    <tr>\n",
       "      <th>32</th>\n",
       "      <td>cheating</td>\n",
       "      <td>Списывает ли на тестах: yes или no</td>\n",
       "    </tr>\n",
       "    <tr>\n",
       "      <th>33</th>\n",
       "      <td>G1</td>\n",
       "      <td>Оценка за первое полугодние: от 0 до 20</td>\n",
       "    </tr>\n",
       "    <tr>\n",
       "      <th>34</th>\n",
       "      <td>G2</td>\n",
       "      <td>Оценка за второе полугодие: от 0 до 20</td>\n",
       "    </tr>\n",
       "    <tr>\n",
       "      <th>35</th>\n",
       "      <td>G3</td>\n",
       "      <td>Итоговая оценка: от 0 до 20</td>\n",
       "    </tr>\n",
       "  </tbody>\n",
       "</table>\n",
       "</div>"
      ],
      "text/plain": [
       "       Признак  \\\n",
       "0   ID           \n",
       "1   Subject      \n",
       "2   school       \n",
       "3   sex          \n",
       "4   age          \n",
       "5   address      \n",
       "6   famsize      \n",
       "7   Pstatus      \n",
       "8   Medu         \n",
       "9   Fedu         \n",
       "10  Mjob         \n",
       "11  Fjob         \n",
       "12  reason       \n",
       "13  guardian     \n",
       "14  traveltime   \n",
       "15  studytime    \n",
       "16  failures     \n",
       "17  schoolsup    \n",
       "18  famsup       \n",
       "19  paid         \n",
       "20  activities   \n",
       "21  nursery      \n",
       "22  higher       \n",
       "23  internet     \n",
       "24  romantic     \n",
       "25  famrel       \n",
       "26  freetime     \n",
       "27  goout        \n",
       "28  Dalc         \n",
       "29  Walc         \n",
       "30  health       \n",
       "31  absences     \n",
       "32  cheating     \n",
       "33  G1           \n",
       "34  G2           \n",
       "35  G3           \n",
       "\n",
       "                                                                                                                                                                              Описание  \n",
       "0   Уникальный номер наблюдения                                                                                                                                                         \n",
       "1   Предмет: 'Math' - математика, 'Por' - португальский язык                                                                                                                            \n",
       "2   Школа: 'GP' - Gabriel Pereira, 'MS' - Mousinho da Silveira                                                                                                                          \n",
       "3   Пол студента: 'F' - женский, 'M' - мужской                                                                                                                                          \n",
       "4   Возраст студента                                                                                                                                                                    \n",
       "5   Место проживания студента: 'U' - в городе, 'R' - за городом                                                                                                                         \n",
       "6   Число членов семьи: 'LE3' - если <= 3, 'GT3' - если > 3                                                                                                                             \n",
       "7   Отношения родителей: 'T' - живут вместе, 'A' - живут раздельно                                                                                                                      \n",
       "8   Образование матери: 0 - без образования, 1 - начальная школа, 2 – от 5 до 9 классов, 3 – среднее образование, 4 – высшее образование                                                \n",
       "9   Образование отца: 0 - без образования, 1 - начальная школа, 2 – от 5 до 9 классов, 3 – среднее образование, 4 – высшее образование                                                  \n",
       "10  Работа матери: 'teacher' - связана с преподаванием, 'health'  - связана с здравоохранением, 'services' - администрация и полиция, 'at_home' - домашняя занятость, 'other' - другое  \n",
       "11  Работа отца: 'teacher' - связана с преподаванием, 'health'  - связана с здравоохранением, 'services' - администрация и полиция, 'at_home' - домашняя занятость, 'other' - другое    \n",
       "12  Причина, по которой студент выбрал данную школу: 'home' - рядом с домом, 'reputation' - репутация школы, 'course' - читаемые курсы, 'other' - другое                                \n",
       "13  Опекун студента (student's guardian): 'mother', 'father' или 'other'                                                                                                                \n",
       "14  Время в пути от дома до школы: 1 - < 15 мин, 2 - от 15 до 30 мин, 3 - от 30 мин до 1 часа, 4 - > 1 часа                                                                             \n",
       "15  Количество часов на учебу в неделю: 1 - < 2 часов, 2 - от 2 до 5 часов, 3 - от 5 до 10 часов, 4 - > 10 часов                                                                        \n",
       "16  Число завалов студента по предыдущим курсам:  n если 1<=n<3, иначе 4                                                                                                                \n",
       "17  Дополнительная помощь в учебе: yes или no                                                                                                                                           \n",
       "18  Дополнительная помощь в учебе от членов семьи: yes или no                                                                                                                           \n",
       "19  Платные дополнительные занятия по соответствущему курсу ('Math' или 'Por'): yes или no                                                                                              \n",
       "20  Внеучебные активности: yes или no                                                                                                                                                   \n",
       "21  Ходил в детстве в детский сад: yes или no                                                                                                                                           \n",
       "22  Собирается получать высшее образование: yes или no                                                                                                                                  \n",
       "23  Есть доступ к всемирной сети из дома: yes или no                                                                                                                                    \n",
       "24  Состоит в романтических отношениях: yes или no                                                                                                                                      \n",
       "25  Отношения в семье: от 1 - очень плохие, до 5 - прекрасные                                                                                                                           \n",
       "26  Свободное время после занятий: от 1 - очень мало, до 5 - очень много                                                                                                                \n",
       "27  Проводит время с друзьями: от 1 - очень редко/мало, до 5 - очень часто/много                                                                                                        \n",
       "28  Потребление алкоголя в будни: от 1 - очень мало, до 5 - очень много                                                                                                                 \n",
       "29  Потребление алкоголя в выходные: от 1 - очень мало, до 5 - очень много                                                                                                              \n",
       "30  Состояние здоровья: от 1 - очень плохое, до 5  - очень хорошее                                                                                                                      \n",
       "31  Число пропусков: сколько раз пропустил занятия в школе                                                                                                                              \n",
       "32  Списывает ли на тестах: yes или no                                                                                                                                                  \n",
       "33  Оценка за первое полугодние: от 0 до 20                                                                                                                                             \n",
       "34  Оценка за второе полугодие: от 0 до 20                                                                                                                                              \n",
       "35  Итоговая оценка: от 0 до 20                                                                                                                                                         "
      ]
     },
     "execution_count": 557,
     "metadata": {},
     "output_type": "execute_result"
    }
   ],
   "source": [
    "features = pd.read_csv('/Users/olesyamartinyuk/Downloads/students_data_features.csv', delimiter=';', encoding='windows-1251')\n",
    "features"
   ]
  },
  {
   "cell_type": "markdown",
   "metadata": {},
   "source": [
    "<br>  \n",
    "## Задания"
   ]
  },
  {
   "cell_type": "markdown",
   "metadata": {},
   "source": [
    "**NB:** Обратите внимание, что часть студентов посещают оба курса и представлены в данных два раза. Из-за этого некоторые результаты анализа могут быть искажены. Имеет смысл выявить таких студентов заранее ([Задание 10](#task10)) и учитывать эту информацию при анализе."
   ]
  },
  {
   "cell_type": "markdown",
   "metadata": {},
   "source": [
    "### Задание 1  \n",
    "  \n",
    " * Для каждого признака определите, к какому типу он относится.   \n",
    " * Проверьте значения признаков на наличие опечаток и ошибок, исправьте их.<br>\n",
    "   __Note:__ Исправлять ошибки нужно программно, модифицировать руками исходный файл нельзя.\n",
    " * При необходимости, приведите признак к определенному вами типу."
   ]
  },
  {
   "cell_type": "markdown",
   "metadata": {},
   "source": [
    "**1)** Для каждого признака определите, к какому типу он относится."
   ]
  },
  {
   "cell_type": "code",
   "execution_count": 558,
   "metadata": {},
   "outputs": [],
   "source": [
    "numeric = [\"ID\", \"age\", \"failures\", \"absences\", \"G1\", \"G2\", \"G3\"]\n",
    "\n",
    "categorial = [\"Subject\", \"school\", \"sex\", \"address\", \"Pstatus\", \"Mjob\", \"Fjob\", \"reason\", \"guardian\", \"schoolsup\", \"famsup\",\n",
    "              \"paid\", \"activities\", \"nursery\", \"higher\", \"internet\", \"romantic\", \"cheating\"]\n",
    "\n",
    "sorted_categorial = [\"famsize\", \"Medu\", \"Fedu\", \"traveltime\", \"studytime\", \"famrel\", \"freetime\", \"goout\", \"Dalc\",\n",
    "                     \"Walc\", \"health\"]"
   ]
  },
  {
   "cell_type": "markdown",
   "metadata": {},
   "source": [
    "**3)** При необходимости, приведите признак к определенному вами типу.\n",
    "\n",
    "Заменяю значения в famsize и все числа, записанные в виде строк. "
   ]
  },
  {
   "cell_type": "code",
   "execution_count": 559,
   "metadata": {},
   "outputs": [],
   "source": [
    "data.loc[:, \"famsize\"].replace(\"LE3\", 3, inplace=True)\n",
    "data.loc[:, \"famsize\"].replace(\"GT3\", 4, inplace=True)"
   ]
  },
  {
   "cell_type": "markdown",
   "metadata": {},
   "source": [
    "**2)** Проверьте значения признаков на наличие опечаток и ошибок, исправьте их."
   ]
  },
  {
   "cell_type": "code",
   "execution_count": 560,
   "metadata": {
    "scrolled": false
   },
   "outputs": [
    {
     "name": "stdout",
     "output_type": "stream",
     "text": [
      "Категориальные признаки\n",
      "\n",
      "Subject unique values: ['Por' 'Math']\n",
      "school unique values: ['GP' 'MS']\n",
      "sex unique values: ['F' 'M' 'm']\n",
      "address unique values: ['U' 'R']\n",
      "Pstatus unique values: ['A' 'T' 't']\n",
      "Mjob unique values: ['services' 'other' 'health' 'at_home' 'teacher' 'at-home']\n",
      "Fjob unique values: ['other' 'services' 'health' 'at-home' 'teacher' 'at_home']\n",
      "reason unique values: ['course' 'home' 'reputation' 'other']\n",
      "guardian unique values: ['father' 'mother' 'other' 'futher']\n",
      "schoolsup unique values: ['no' 'yes']\n",
      "famsup unique values: ['no' 'yes']\n",
      "paid unique values: ['no' 'yes']\n",
      "activities unique values: ['no' 'yes']\n",
      "nursery unique values: ['yes' 'no']\n",
      "higher unique values: ['yes' 'no']\n",
      "internet unique values: ['yes' 'no']\n",
      "romantic unique values: ['no' nan 'yes']\n",
      "cheating unique values: [nan 'yes' 'no']\n",
      "\n",
      "Упорядоченные категориальные признаки\n",
      "\n",
      "famsize unique values: [4 3]\n",
      "Medu unique values: ['3' '1' '2' '4' '0' 'o']\n",
      "Fedu unique values: ['4' '2' '3' '1' 'o' '0']\n",
      "traveltime unique values: [1 2 3 4]\n",
      "studytime unique values: [1 2 4 3]\n",
      "famrel unique values: [ 3.  5.  4.  1.  2. nan]\n",
      "freetime unique values: [2 3 4 1 5]\n",
      "goout unique values: [1 4 5 3 2]\n",
      "Dalc unique values: [ 1.  3.  4.  2.  5. nan]\n",
      "Walc unique values: [ 4.  3.  5.  1.  2. nan]\n",
      "health unique values: [5 3 4 2 1]\n"
     ]
    }
   ],
   "source": [
    "print(\"Категориальные признаки\\n\")\n",
    "for key, value in data.loc[:, categorial].items():\n",
    "    print(key, \"unique values:\", value.unique())\n",
    "\n",
    "print(\"\\nУпорядоченные категориальные признаки\\n\")\n",
    "for key, value in data.loc[:, sorted_categorial].items():\n",
    "    print(key, \"unique values:\", value.unique())"
   ]
  },
  {
   "cell_type": "markdown",
   "metadata": {},
   "source": [
    "Исправляю опечатки"
   ]
  },
  {
   "cell_type": "code",
   "execution_count": 561,
   "metadata": {},
   "outputs": [],
   "source": [
    "data.loc[:, \"sex\"].replace(\"m\", \"M\", inplace=True)\n",
    "data.loc[:, \"Pstatus\"].replace(\"t\", \"T\", inplace=True)\n",
    "data.replace(\"at-home\", \"at_home\", inplace=True)\n",
    "data.loc[:, \"guardian\"].replace(\"futher\", \"father\", inplace=True)\n",
    "data.replace(\"no\", False, inplace=True)\n",
    "data.replace(\"yes\", True, inplace=True)\n",
    "data.replace(\"o\", \"0\", inplace=True)"
   ]
  },
  {
   "cell_type": "markdown",
   "metadata": {},
   "source": [
    "Снова печатаю уникальные значения, чтобы удостовериться, что все ок"
   ]
  },
  {
   "cell_type": "code",
   "execution_count": 562,
   "metadata": {
    "scrolled": false
   },
   "outputs": [
    {
     "name": "stdout",
     "output_type": "stream",
     "text": [
      "Категориальные признаки\n",
      "\n",
      "Subject уникальные значения: ['Por' 'Math']\n",
      "school уникальные значения: ['GP' 'MS']\n",
      "sex уникальные значения: ['F' 'M']\n",
      "address уникальные значения: ['U' 'R']\n",
      "Pstatus уникальные значения: ['A' 'T']\n",
      "Mjob уникальные значения: ['services' 'other' 'health' 'at_home' 'teacher']\n",
      "Fjob уникальные значения: ['other' 'services' 'health' 'at_home' 'teacher']\n",
      "reason уникальные значения: ['course' 'home' 'reputation' 'other']\n",
      "guardian уникальные значения: ['father' 'mother' 'other']\n",
      "schoolsup уникальные значения: [False  True]\n",
      "famsup уникальные значения: [False  True]\n",
      "paid уникальные значения: [False  True]\n",
      "activities уникальные значения: [False  True]\n",
      "nursery уникальные значения: [ True False]\n",
      "higher уникальные значения: [ True False]\n",
      "internet уникальные значения: [ True False]\n",
      "romantic уникальные значения: [False nan True]\n",
      "cheating уникальные значения: [nan True False]\n",
      "\n",
      "Упорядоченные категориальные признаки\n",
      "\n",
      "famsize уникальные значения: [4 3]\n",
      "Medu уникальные значения: ['3' '1' '2' '4' '0']\n",
      "Fedu уникальные значения: ['4' '2' '3' '1' '0']\n",
      "traveltime уникальные значения: [1 2 3 4]\n",
      "studytime уникальные значения: [1 2 4 3]\n",
      "famrel уникальные значения: [ 3.  5.  4.  1.  2. nan]\n",
      "freetime уникальные значения: [2 3 4 1 5]\n",
      "goout уникальные значения: [1 4 5 3 2]\n",
      "Dalc уникальные значения: [ 1.  3.  4.  2.  5. nan]\n",
      "Walc уникальные значения: [ 4.  3.  5.  1.  2. nan]\n",
      "health уникальные значения: [5 3 4 2 1]\n"
     ]
    }
   ],
   "source": [
    "print(\"Категориальные признаки\\n\")\n",
    "for key, value in data.loc[:, categorial].items():\n",
    "    print(key, \"уникальные значения:\", value.unique())\n",
    "\n",
    "print(\"\\nУпорядоченные категориальные признаки\\n\")\n",
    "for key, value in data.loc[:, sorted_categorial].items():\n",
    "    print(key, \"уникальные значения:\", value.unique())"
   ]
  },
  {
   "cell_type": "markdown",
   "metadata": {},
   "source": [
    "### Задание 2  \n",
    "  \n",
    "Проверьте, присутствуют ли в данных пропущенные значения. Сколько? В каких признаках?  \n",
    "По каждому такому признаку предложите и обоснуйте, что делать с пропущенными значениями."
   ]
  },
  {
   "cell_type": "code",
   "execution_count": 563,
   "metadata": {},
   "outputs": [
    {
     "name": "stdout",
     "output_type": "stream",
     "text": [
      "romantic количество пропущенных значений: 10\n",
      "famrel количество пропущенных значений: 10\n",
      "Dalc количество пропущенных значений: 10\n",
      "Walc количество пропущенных значений: 10\n",
      "cheating количество пропущенных значений: 700\n"
     ]
    }
   ],
   "source": [
    "feature_na = []\n",
    "for item in data.items():\n",
    "    miss_count = list(item[1].isna().values).count(True)\n",
    "    if miss_count:\n",
    "        feature_na.append(item[0])\n",
    "        print(f\"{item[0]} количество пропущенных значений: {miss_count}\")        "
   ]
  },
  {
   "cell_type": "markdown",
   "metadata": {},
   "source": [
    "Количество пропущенных значений в cheating слишком большое, чтобы его можно было заменить средним значением без значительной потери точности при исследованиях. Думаю, этот признак можно убрать из data. Остальные пропущенные значения заменить средним значением."
   ]
  },
  {
   "cell_type": "code",
   "execution_count": 564,
   "metadata": {},
   "outputs": [],
   "source": [
    "feature_na.remove(\"cheating\")\n",
    "data.drop(columns=[\"cheating\"], inplace=True)"
   ]
  },
  {
   "cell_type": "code",
   "execution_count": 565,
   "metadata": {},
   "outputs": [
    {
     "name": "stdout",
     "output_type": "stream",
     "text": [
      "romantic среднее значение вместо Na = False\n",
      "famrel среднее значение вместо Na = 4.0\n",
      "Dalc среднее значение вместо Na = 1.0\n",
      "Walc среднее значение вместо Na = 2.0\n"
     ]
    }
   ],
   "source": [
    "for feature in feature_na:\n",
    "    md = data.loc[:, feature].dropna().median()\n",
    "    if feature == \"romantic\": md = bool(md)\n",
    "    data.loc[:, feature].fillna(md, inplace=True)\n",
    "    print(f\"{feature} среднее значение вместо Na = {md}\")"
   ]
  },
  {
   "cell_type": "markdown",
   "metadata": {},
   "source": [
    "### Задание 3  \n",
    "  \n",
    "* Посчитайте описательные статистики для числовых и для категориальных признаков. \n",
    "* Сколько студентов посещают каждую из школ?  \n",
    "* Сколько студентов посещают математику, сколько - португальский?  \n",
    "* Студенты какого курса чаще заваливают экзамены?  \n",
    "* Сколько в среднем времени в неделю уходит на учебу по каждому предмету?  \n",
    "* На что чаще обращают внимание при выборе школы?"
   ]
  },
  {
   "cell_type": "markdown",
   "metadata": {},
   "source": [
    "**1)** Посчитайте описательные статистики для числовых и для категориальных признаков."
   ]
  },
  {
   "cell_type": "code",
   "execution_count": 566,
   "metadata": {
    "scrolled": true
   },
   "outputs": [
    {
     "data": {
      "text/html": [
       "<div>\n",
       "<style scoped>\n",
       "    .dataframe tbody tr th:only-of-type {\n",
       "        vertical-align: middle;\n",
       "    }\n",
       "\n",
       "    .dataframe tbody tr th {\n",
       "        vertical-align: top;\n",
       "    }\n",
       "\n",
       "    .dataframe thead th {\n",
       "        text-align: right;\n",
       "    }\n",
       "</style>\n",
       "<table border=\"1\" class=\"dataframe\">\n",
       "  <thead>\n",
       "    <tr style=\"text-align: right;\">\n",
       "      <th></th>\n",
       "      <th>ID</th>\n",
       "      <th>Subject</th>\n",
       "      <th>school</th>\n",
       "      <th>sex</th>\n",
       "      <th>age</th>\n",
       "      <th>address</th>\n",
       "      <th>famsize</th>\n",
       "      <th>Pstatus</th>\n",
       "      <th>Medu</th>\n",
       "      <th>Fedu</th>\n",
       "      <th>Mjob</th>\n",
       "      <th>Fjob</th>\n",
       "      <th>reason</th>\n",
       "      <th>guardian</th>\n",
       "      <th>traveltime</th>\n",
       "      <th>studytime</th>\n",
       "      <th>failures</th>\n",
       "      <th>schoolsup</th>\n",
       "      <th>famsup</th>\n",
       "      <th>paid</th>\n",
       "      <th>activities</th>\n",
       "      <th>nursery</th>\n",
       "      <th>higher</th>\n",
       "      <th>internet</th>\n",
       "      <th>romantic</th>\n",
       "      <th>famrel</th>\n",
       "      <th>freetime</th>\n",
       "      <th>goout</th>\n",
       "      <th>Dalc</th>\n",
       "      <th>Walc</th>\n",
       "      <th>health</th>\n",
       "      <th>absences</th>\n",
       "      <th>G1</th>\n",
       "      <th>G2</th>\n",
       "      <th>G3</th>\n",
       "    </tr>\n",
       "  </thead>\n",
       "  <tbody>\n",
       "    <tr>\n",
       "      <th>count</th>\n",
       "      <td>1044.000000</td>\n",
       "      <td>1044</td>\n",
       "      <td>1044</td>\n",
       "      <td>1044</td>\n",
       "      <td>1044.000000</td>\n",
       "      <td>1044</td>\n",
       "      <td>1044.000000</td>\n",
       "      <td>1044</td>\n",
       "      <td>1044</td>\n",
       "      <td>1044</td>\n",
       "      <td>1044</td>\n",
       "      <td>1044</td>\n",
       "      <td>1044</td>\n",
       "      <td>1044</td>\n",
       "      <td>1044.000000</td>\n",
       "      <td>1044.000000</td>\n",
       "      <td>1044.000000</td>\n",
       "      <td>1044</td>\n",
       "      <td>1044</td>\n",
       "      <td>1044</td>\n",
       "      <td>1044</td>\n",
       "      <td>1044</td>\n",
       "      <td>1044</td>\n",
       "      <td>1044</td>\n",
       "      <td>1044</td>\n",
       "      <td>1044.000000</td>\n",
       "      <td>1044.000000</td>\n",
       "      <td>1044.000000</td>\n",
       "      <td>1044.000000</td>\n",
       "      <td>1044.000000</td>\n",
       "      <td>1044.000000</td>\n",
       "      <td>1044.000000</td>\n",
       "      <td>1044.000000</td>\n",
       "      <td>1044.000000</td>\n",
       "      <td>1044.000000</td>\n",
       "    </tr>\n",
       "    <tr>\n",
       "      <th>unique</th>\n",
       "      <td>NaN</td>\n",
       "      <td>2</td>\n",
       "      <td>2</td>\n",
       "      <td>2</td>\n",
       "      <td>NaN</td>\n",
       "      <td>2</td>\n",
       "      <td>NaN</td>\n",
       "      <td>2</td>\n",
       "      <td>5</td>\n",
       "      <td>5</td>\n",
       "      <td>5</td>\n",
       "      <td>5</td>\n",
       "      <td>4</td>\n",
       "      <td>3</td>\n",
       "      <td>NaN</td>\n",
       "      <td>NaN</td>\n",
       "      <td>NaN</td>\n",
       "      <td>2</td>\n",
       "      <td>2</td>\n",
       "      <td>2</td>\n",
       "      <td>2</td>\n",
       "      <td>2</td>\n",
       "      <td>2</td>\n",
       "      <td>2</td>\n",
       "      <td>2</td>\n",
       "      <td>NaN</td>\n",
       "      <td>NaN</td>\n",
       "      <td>NaN</td>\n",
       "      <td>NaN</td>\n",
       "      <td>NaN</td>\n",
       "      <td>NaN</td>\n",
       "      <td>NaN</td>\n",
       "      <td>NaN</td>\n",
       "      <td>NaN</td>\n",
       "      <td>NaN</td>\n",
       "    </tr>\n",
       "    <tr>\n",
       "      <th>top</th>\n",
       "      <td>NaN</td>\n",
       "      <td>Por</td>\n",
       "      <td>GP</td>\n",
       "      <td>F</td>\n",
       "      <td>NaN</td>\n",
       "      <td>U</td>\n",
       "      <td>NaN</td>\n",
       "      <td>T</td>\n",
       "      <td>4</td>\n",
       "      <td>2</td>\n",
       "      <td>other</td>\n",
       "      <td>other</td>\n",
       "      <td>course</td>\n",
       "      <td>mother</td>\n",
       "      <td>NaN</td>\n",
       "      <td>NaN</td>\n",
       "      <td>NaN</td>\n",
       "      <td>False</td>\n",
       "      <td>True</td>\n",
       "      <td>False</td>\n",
       "      <td>False</td>\n",
       "      <td>True</td>\n",
       "      <td>True</td>\n",
       "      <td>True</td>\n",
       "      <td>False</td>\n",
       "      <td>NaN</td>\n",
       "      <td>NaN</td>\n",
       "      <td>NaN</td>\n",
       "      <td>NaN</td>\n",
       "      <td>NaN</td>\n",
       "      <td>NaN</td>\n",
       "      <td>NaN</td>\n",
       "      <td>NaN</td>\n",
       "      <td>NaN</td>\n",
       "      <td>NaN</td>\n",
       "    </tr>\n",
       "    <tr>\n",
       "      <th>freq</th>\n",
       "      <td>NaN</td>\n",
       "      <td>649</td>\n",
       "      <td>772</td>\n",
       "      <td>591</td>\n",
       "      <td>NaN</td>\n",
       "      <td>759</td>\n",
       "      <td>NaN</td>\n",
       "      <td>923</td>\n",
       "      <td>306</td>\n",
       "      <td>324</td>\n",
       "      <td>399</td>\n",
       "      <td>584</td>\n",
       "      <td>430</td>\n",
       "      <td>728</td>\n",
       "      <td>NaN</td>\n",
       "      <td>NaN</td>\n",
       "      <td>NaN</td>\n",
       "      <td>925</td>\n",
       "      <td>640</td>\n",
       "      <td>824</td>\n",
       "      <td>528</td>\n",
       "      <td>835</td>\n",
       "      <td>955</td>\n",
       "      <td>827</td>\n",
       "      <td>674</td>\n",
       "      <td>NaN</td>\n",
       "      <td>NaN</td>\n",
       "      <td>NaN</td>\n",
       "      <td>NaN</td>\n",
       "      <td>NaN</td>\n",
       "      <td>NaN</td>\n",
       "      <td>NaN</td>\n",
       "      <td>NaN</td>\n",
       "      <td>NaN</td>\n",
       "      <td>NaN</td>\n",
       "    </tr>\n",
       "    <tr>\n",
       "      <th>mean</th>\n",
       "      <td>547057.194444</td>\n",
       "      <td>NaN</td>\n",
       "      <td>NaN</td>\n",
       "      <td>NaN</td>\n",
       "      <td>16.726054</td>\n",
       "      <td>NaN</td>\n",
       "      <td>3.706897</td>\n",
       "      <td>NaN</td>\n",
       "      <td>NaN</td>\n",
       "      <td>NaN</td>\n",
       "      <td>NaN</td>\n",
       "      <td>NaN</td>\n",
       "      <td>NaN</td>\n",
       "      <td>NaN</td>\n",
       "      <td>1.522989</td>\n",
       "      <td>1.970307</td>\n",
       "      <td>0.264368</td>\n",
       "      <td>NaN</td>\n",
       "      <td>NaN</td>\n",
       "      <td>NaN</td>\n",
       "      <td>NaN</td>\n",
       "      <td>NaN</td>\n",
       "      <td>NaN</td>\n",
       "      <td>NaN</td>\n",
       "      <td>NaN</td>\n",
       "      <td>3.936782</td>\n",
       "      <td>3.201149</td>\n",
       "      <td>3.156130</td>\n",
       "      <td>1.492337</td>\n",
       "      <td>2.288314</td>\n",
       "      <td>3.543103</td>\n",
       "      <td>4.434866</td>\n",
       "      <td>11.213602</td>\n",
       "      <td>11.246169</td>\n",
       "      <td>11.341954</td>\n",
       "    </tr>\n",
       "    <tr>\n",
       "      <th>std</th>\n",
       "      <td>263827.336666</td>\n",
       "      <td>NaN</td>\n",
       "      <td>NaN</td>\n",
       "      <td>NaN</td>\n",
       "      <td>1.239975</td>\n",
       "      <td>NaN</td>\n",
       "      <td>0.455404</td>\n",
       "      <td>NaN</td>\n",
       "      <td>NaN</td>\n",
       "      <td>NaN</td>\n",
       "      <td>NaN</td>\n",
       "      <td>NaN</td>\n",
       "      <td>NaN</td>\n",
       "      <td>NaN</td>\n",
       "      <td>0.731727</td>\n",
       "      <td>0.834353</td>\n",
       "      <td>0.656142</td>\n",
       "      <td>NaN</td>\n",
       "      <td>NaN</td>\n",
       "      <td>NaN</td>\n",
       "      <td>NaN</td>\n",
       "      <td>NaN</td>\n",
       "      <td>NaN</td>\n",
       "      <td>NaN</td>\n",
       "      <td>NaN</td>\n",
       "      <td>0.928833</td>\n",
       "      <td>1.031507</td>\n",
       "      <td>1.152575</td>\n",
       "      <td>0.911700</td>\n",
       "      <td>1.282008</td>\n",
       "      <td>1.424703</td>\n",
       "      <td>6.210017</td>\n",
       "      <td>2.983394</td>\n",
       "      <td>3.285071</td>\n",
       "      <td>3.864796</td>\n",
       "    </tr>\n",
       "    <tr>\n",
       "      <th>min</th>\n",
       "      <td>100097.000000</td>\n",
       "      <td>NaN</td>\n",
       "      <td>NaN</td>\n",
       "      <td>NaN</td>\n",
       "      <td>15.000000</td>\n",
       "      <td>NaN</td>\n",
       "      <td>3.000000</td>\n",
       "      <td>NaN</td>\n",
       "      <td>NaN</td>\n",
       "      <td>NaN</td>\n",
       "      <td>NaN</td>\n",
       "      <td>NaN</td>\n",
       "      <td>NaN</td>\n",
       "      <td>NaN</td>\n",
       "      <td>1.000000</td>\n",
       "      <td>1.000000</td>\n",
       "      <td>0.000000</td>\n",
       "      <td>NaN</td>\n",
       "      <td>NaN</td>\n",
       "      <td>NaN</td>\n",
       "      <td>NaN</td>\n",
       "      <td>NaN</td>\n",
       "      <td>NaN</td>\n",
       "      <td>NaN</td>\n",
       "      <td>NaN</td>\n",
       "      <td>1.000000</td>\n",
       "      <td>1.000000</td>\n",
       "      <td>1.000000</td>\n",
       "      <td>1.000000</td>\n",
       "      <td>1.000000</td>\n",
       "      <td>1.000000</td>\n",
       "      <td>0.000000</td>\n",
       "      <td>0.000000</td>\n",
       "      <td>0.000000</td>\n",
       "      <td>0.000000</td>\n",
       "    </tr>\n",
       "    <tr>\n",
       "      <th>25%</th>\n",
       "      <td>324017.500000</td>\n",
       "      <td>NaN</td>\n",
       "      <td>NaN</td>\n",
       "      <td>NaN</td>\n",
       "      <td>16.000000</td>\n",
       "      <td>NaN</td>\n",
       "      <td>3.000000</td>\n",
       "      <td>NaN</td>\n",
       "      <td>NaN</td>\n",
       "      <td>NaN</td>\n",
       "      <td>NaN</td>\n",
       "      <td>NaN</td>\n",
       "      <td>NaN</td>\n",
       "      <td>NaN</td>\n",
       "      <td>1.000000</td>\n",
       "      <td>1.000000</td>\n",
       "      <td>0.000000</td>\n",
       "      <td>NaN</td>\n",
       "      <td>NaN</td>\n",
       "      <td>NaN</td>\n",
       "      <td>NaN</td>\n",
       "      <td>NaN</td>\n",
       "      <td>NaN</td>\n",
       "      <td>NaN</td>\n",
       "      <td>NaN</td>\n",
       "      <td>4.000000</td>\n",
       "      <td>3.000000</td>\n",
       "      <td>2.000000</td>\n",
       "      <td>1.000000</td>\n",
       "      <td>1.000000</td>\n",
       "      <td>3.000000</td>\n",
       "      <td>0.000000</td>\n",
       "      <td>9.000000</td>\n",
       "      <td>9.000000</td>\n",
       "      <td>10.000000</td>\n",
       "    </tr>\n",
       "    <tr>\n",
       "      <th>50%</th>\n",
       "      <td>554339.500000</td>\n",
       "      <td>NaN</td>\n",
       "      <td>NaN</td>\n",
       "      <td>NaN</td>\n",
       "      <td>17.000000</td>\n",
       "      <td>NaN</td>\n",
       "      <td>4.000000</td>\n",
       "      <td>NaN</td>\n",
       "      <td>NaN</td>\n",
       "      <td>NaN</td>\n",
       "      <td>NaN</td>\n",
       "      <td>NaN</td>\n",
       "      <td>NaN</td>\n",
       "      <td>NaN</td>\n",
       "      <td>1.000000</td>\n",
       "      <td>2.000000</td>\n",
       "      <td>0.000000</td>\n",
       "      <td>NaN</td>\n",
       "      <td>NaN</td>\n",
       "      <td>NaN</td>\n",
       "      <td>NaN</td>\n",
       "      <td>NaN</td>\n",
       "      <td>NaN</td>\n",
       "      <td>NaN</td>\n",
       "      <td>NaN</td>\n",
       "      <td>4.000000</td>\n",
       "      <td>3.000000</td>\n",
       "      <td>3.000000</td>\n",
       "      <td>1.000000</td>\n",
       "      <td>2.000000</td>\n",
       "      <td>4.000000</td>\n",
       "      <td>2.000000</td>\n",
       "      <td>11.000000</td>\n",
       "      <td>11.000000</td>\n",
       "      <td>11.000000</td>\n",
       "    </tr>\n",
       "    <tr>\n",
       "      <th>75%</th>\n",
       "      <td>774486.000000</td>\n",
       "      <td>NaN</td>\n",
       "      <td>NaN</td>\n",
       "      <td>NaN</td>\n",
       "      <td>18.000000</td>\n",
       "      <td>NaN</td>\n",
       "      <td>4.000000</td>\n",
       "      <td>NaN</td>\n",
       "      <td>NaN</td>\n",
       "      <td>NaN</td>\n",
       "      <td>NaN</td>\n",
       "      <td>NaN</td>\n",
       "      <td>NaN</td>\n",
       "      <td>NaN</td>\n",
       "      <td>2.000000</td>\n",
       "      <td>2.000000</td>\n",
       "      <td>0.000000</td>\n",
       "      <td>NaN</td>\n",
       "      <td>NaN</td>\n",
       "      <td>NaN</td>\n",
       "      <td>NaN</td>\n",
       "      <td>NaN</td>\n",
       "      <td>NaN</td>\n",
       "      <td>NaN</td>\n",
       "      <td>NaN</td>\n",
       "      <td>5.000000</td>\n",
       "      <td>4.000000</td>\n",
       "      <td>4.000000</td>\n",
       "      <td>2.000000</td>\n",
       "      <td>3.000000</td>\n",
       "      <td>5.000000</td>\n",
       "      <td>6.000000</td>\n",
       "      <td>13.000000</td>\n",
       "      <td>13.000000</td>\n",
       "      <td>14.000000</td>\n",
       "    </tr>\n",
       "    <tr>\n",
       "      <th>max</th>\n",
       "      <td>999194.000000</td>\n",
       "      <td>NaN</td>\n",
       "      <td>NaN</td>\n",
       "      <td>NaN</td>\n",
       "      <td>22.000000</td>\n",
       "      <td>NaN</td>\n",
       "      <td>4.000000</td>\n",
       "      <td>NaN</td>\n",
       "      <td>NaN</td>\n",
       "      <td>NaN</td>\n",
       "      <td>NaN</td>\n",
       "      <td>NaN</td>\n",
       "      <td>NaN</td>\n",
       "      <td>NaN</td>\n",
       "      <td>4.000000</td>\n",
       "      <td>4.000000</td>\n",
       "      <td>3.000000</td>\n",
       "      <td>NaN</td>\n",
       "      <td>NaN</td>\n",
       "      <td>NaN</td>\n",
       "      <td>NaN</td>\n",
       "      <td>NaN</td>\n",
       "      <td>NaN</td>\n",
       "      <td>NaN</td>\n",
       "      <td>NaN</td>\n",
       "      <td>5.000000</td>\n",
       "      <td>5.000000</td>\n",
       "      <td>5.000000</td>\n",
       "      <td>5.000000</td>\n",
       "      <td>5.000000</td>\n",
       "      <td>5.000000</td>\n",
       "      <td>75.000000</td>\n",
       "      <td>19.000000</td>\n",
       "      <td>19.000000</td>\n",
       "      <td>20.000000</td>\n",
       "    </tr>\n",
       "  </tbody>\n",
       "</table>\n",
       "</div>"
      ],
      "text/plain": [
       "                   ID Subject school   sex          age address      famsize  \\\n",
       "count   1044.000000    1044    1044   1044  1044.000000  1044    1044.000000   \n",
       "unique NaN             2       2      2    NaN           2      NaN            \n",
       "top    NaN             Por     GP     F    NaN           U      NaN            \n",
       "freq   NaN             649     772    591  NaN           759    NaN            \n",
       "mean    547057.194444  NaN     NaN    NaN   16.726054    NaN     3.706897      \n",
       "std     263827.336666  NaN     NaN    NaN   1.239975     NaN     0.455404      \n",
       "min     100097.000000  NaN     NaN    NaN   15.000000    NaN     3.000000      \n",
       "25%     324017.500000  NaN     NaN    NaN   16.000000    NaN     3.000000      \n",
       "50%     554339.500000  NaN     NaN    NaN   17.000000    NaN     4.000000      \n",
       "75%     774486.000000  NaN     NaN    NaN   18.000000    NaN     4.000000      \n",
       "max     999194.000000  NaN     NaN    NaN   22.000000    NaN     4.000000      \n",
       "\n",
       "       Pstatus  Medu  Fedu   Mjob   Fjob  reason guardian   traveltime  \\\n",
       "count   1044    1044  1044  1044   1044   1044    1044     1044.000000   \n",
       "unique  2       5     5     5      5      4       3       NaN            \n",
       "top     T       4     2     other  other  course  mother  NaN            \n",
       "freq    923     306   324   399    584    430     728     NaN            \n",
       "mean    NaN     NaN   NaN   NaN    NaN    NaN     NaN      1.522989      \n",
       "std     NaN     NaN   NaN   NaN    NaN    NaN     NaN      0.731727      \n",
       "min     NaN     NaN   NaN   NaN    NaN    NaN     NaN      1.000000      \n",
       "25%     NaN     NaN   NaN   NaN    NaN    NaN     NaN      1.000000      \n",
       "50%     NaN     NaN   NaN   NaN    NaN    NaN     NaN      1.000000      \n",
       "75%     NaN     NaN   NaN   NaN    NaN    NaN     NaN      2.000000      \n",
       "max     NaN     NaN   NaN   NaN    NaN    NaN     NaN      4.000000      \n",
       "\n",
       "          studytime     failures schoolsup famsup   paid activities nursery  \\\n",
       "count   1044.000000  1044.000000  1044      1044   1044   1044       1044     \n",
       "unique NaN          NaN           2         2      2      2          2        \n",
       "top    NaN          NaN           False     True   False  False      True     \n",
       "freq   NaN          NaN           925       640    824    528        835      \n",
       "mean    1.970307     0.264368     NaN       NaN    NaN    NaN        NaN      \n",
       "std     0.834353     0.656142     NaN       NaN    NaN    NaN        NaN      \n",
       "min     1.000000     0.000000     NaN       NaN    NaN    NaN        NaN      \n",
       "25%     1.000000     0.000000     NaN       NaN    NaN    NaN        NaN      \n",
       "50%     2.000000     0.000000     NaN       NaN    NaN    NaN        NaN      \n",
       "75%     2.000000     0.000000     NaN       NaN    NaN    NaN        NaN      \n",
       "max     4.000000     3.000000     NaN       NaN    NaN    NaN        NaN      \n",
       "\n",
       "       higher internet romantic       famrel     freetime        goout  \\\n",
       "count   1044   1044     1044     1044.000000  1044.000000  1044.000000   \n",
       "unique  2      2        2       NaN          NaN          NaN            \n",
       "top     True   True     False   NaN          NaN          NaN            \n",
       "freq    955    827      674     NaN          NaN          NaN            \n",
       "mean    NaN    NaN      NaN      3.936782     3.201149     3.156130      \n",
       "std     NaN    NaN      NaN      0.928833     1.031507     1.152575      \n",
       "min     NaN    NaN      NaN      1.000000     1.000000     1.000000      \n",
       "25%     NaN    NaN      NaN      4.000000     3.000000     2.000000      \n",
       "50%     NaN    NaN      NaN      4.000000     3.000000     3.000000      \n",
       "75%     NaN    NaN      NaN      5.000000     4.000000     4.000000      \n",
       "max     NaN    NaN      NaN      5.000000     5.000000     5.000000      \n",
       "\n",
       "               Dalc         Walc       health     absences           G1  \\\n",
       "count   1044.000000  1044.000000  1044.000000  1044.000000  1044.000000   \n",
       "unique NaN          NaN          NaN          NaN          NaN            \n",
       "top    NaN          NaN          NaN          NaN          NaN            \n",
       "freq   NaN          NaN          NaN          NaN          NaN            \n",
       "mean    1.492337     2.288314     3.543103     4.434866     11.213602     \n",
       "std     0.911700     1.282008     1.424703     6.210017     2.983394      \n",
       "min     1.000000     1.000000     1.000000     0.000000     0.000000      \n",
       "25%     1.000000     1.000000     3.000000     0.000000     9.000000      \n",
       "50%     1.000000     2.000000     4.000000     2.000000     11.000000     \n",
       "75%     2.000000     3.000000     5.000000     6.000000     13.000000     \n",
       "max     5.000000     5.000000     5.000000     75.000000    19.000000     \n",
       "\n",
       "                 G2           G3  \n",
       "count   1044.000000  1044.000000  \n",
       "unique NaN          NaN           \n",
       "top    NaN          NaN           \n",
       "freq   NaN          NaN           \n",
       "mean    11.246169    11.341954    \n",
       "std     3.285071     3.864796     \n",
       "min     0.000000     0.000000     \n",
       "25%     9.000000     10.000000    \n",
       "50%     11.000000    11.000000    \n",
       "75%     13.000000    14.000000    \n",
       "max     19.000000    20.000000    "
      ]
     },
     "execution_count": 566,
     "metadata": {},
     "output_type": "execute_result"
    }
   ],
   "source": [
    "data.describe(include=\"all\")"
   ]
  },
  {
   "cell_type": "markdown",
   "metadata": {},
   "source": [
    "**2)** Сколько студентов посещают каждую из школ?"
   ]
  },
  {
   "cell_type": "code",
   "execution_count": 567,
   "metadata": {
    "scrolled": true
   },
   "outputs": [
    {
     "name": "stdout",
     "output_type": "stream",
     "text": [
      "772 ходят в Gabriel Pereira\n",
      "272 ходят в Mousinho da Silveira\n"
     ]
    }
   ],
   "source": [
    "print(f\"{len(data.loc[data['school'] == 'GP'])} ходят в Gabriel Pereira\\n{len(data.loc[data['school'] == 'MS'])} ходят в Mousinho da Silveira\")"
   ]
  },
  {
   "cell_type": "markdown",
   "metadata": {},
   "source": [
    "**3)** Сколько студентов посещают математику, сколько - португальский?"
   ]
  },
  {
   "cell_type": "code",
   "execution_count": 568,
   "metadata": {},
   "outputs": [
    {
     "name": "stdout",
     "output_type": "stream",
     "text": [
      "395 ходят на математику\n",
      "649 ходят на португальский\n"
     ]
    }
   ],
   "source": [
    "print(f\"{len(data.loc[data['Subject'] == 'Math'])} ходят на математику\\n{len(data.loc[data['Subject'] == 'Por'])} ходят на португальский\")"
   ]
  },
  {
   "cell_type": "markdown",
   "metadata": {},
   "source": [
    "**4)** Какой предмет заваливают чаще?"
   ]
  },
  {
   "cell_type": "code",
   "execution_count": 569,
   "metadata": {},
   "outputs": [
    {
     "name": "stdout",
     "output_type": "stream",
     "text": [
      "Математику заваливают чаще: 0.17721518987341772 учеников не справляются на экзамене\n"
     ]
    }
   ],
   "source": [
    "por_percent = len(data.loc[(data['G3'] < 8) & (data['Subject'] == 'Por')]) / len(data.loc[data['Subject'] == 'Por'])\n",
    "math_percent = len(data.loc[(data['G3'] < 8) & (data['Subject'] == 'Math')]) / len(data.loc[data['Subject'] == 'Math'])\n",
    "if por_percent > math_percent:\n",
    "    print(f\"Португальский заваливают чаще: {por_percent} учеников не справляются на экзамене\")\n",
    "else: \n",
    "    print(f\"Математику заваливают чаще: {math_percent} учеников не справляются на экзамене\")"
   ]
  },
  {
   "cell_type": "markdown",
   "metadata": {},
   "source": [
    "**5)** Сколько в среднем времени в неделю уходит на учебу по каждому предмету?"
   ]
  },
  {
   "cell_type": "code",
   "execution_count": 570,
   "metadata": {},
   "outputs": [
    {
     "name": "stdout",
     "output_type": "stream",
     "text": [
      "Среднее время занятия португальским: от 2 до 5 часов в неделю\n",
      "Среднее время занятия математикой: от 2 до 5 часов в неделю\n"
     ]
    }
   ],
   "source": [
    "por_time = data.loc[data['Subject'] == 'Por', 'studytime'].median()\n",
    "math_time = data.loc[data['Subject'] == 'Math', 'studytime'].median()\n",
    "if float(por_time) <= 1.0:\n",
    "    print('Среднее время занятия португальским: меньше 2 часов в неделю')\n",
    "elif 1.0 < float(por_time) <= 2.0:\n",
    "    print('Среднее время занятия португальским: от 2 до 5 часов в неделю')\n",
    "elif 2.0 < float(por_time) <= 3.0:\n",
    "    print('Среднее время занятия португальским: от 5 до 10 часов в неделю')\n",
    "else:\n",
    "    print('Среднее время занятия португальским: больше 10 часов в неделю')\n",
    "    \n",
    "if float(math_time) <= 1.0:\n",
    "    print('Среднее время занятия математикой: меньше 2 часов в неделю')\n",
    "elif 1.0 < float(math_time) <= 2.0:\n",
    "    print('Среднее время занятия математикой: от 2 до 5 часов в неделю')\n",
    "elif 2.0 < float(math_time) <= 3.0:\n",
    "    print('Среднее время занятия математикой: от 5 до 10 часов в неделю')\n",
    "else:\n",
    "    print('Среднее время занятия математикой: больше 10 часов в неделю')\n",
    "\n"
   ]
  },
  {
   "cell_type": "markdown",
   "metadata": {},
   "source": [
    "**6)** На что чаще обращают внимание при выборе школы?"
   ]
  },
  {
   "cell_type": "code",
   "execution_count": 571,
   "metadata": {},
   "outputs": [
    {
     "name": "stdout",
     "output_type": "stream",
     "text": [
      "Главная причина при выборе школы это course.\n"
     ]
    }
   ],
   "source": [
    "print(f\"Главная причина при выборе школы это {data['reason'].value_counts().idxmax()}.\")"
   ]
  },
  {
   "cell_type": "markdown",
   "metadata": {},
   "source": [
    "### Задание 4  \n",
    "  \n",
    "Оцените распределение оценок (отдельно для `G1`, `G2` и `G3`). Сравните распределения для разных предметов - математики и португальского языка. Сделайте выводы.  \n",
    "  \n",
    "**Tip:** Для выполнения задания пригодятся графики плотности, гистограммы и боксплоты."
   ]
  },
  {
   "cell_type": "markdown",
   "metadata": {},
   "source": [
    "**1)** Оцените Оцените распределение оценок (отдельно для G1, G2 и G3). "
   ]
  },
  {
   "cell_type": "code",
   "execution_count": 572,
   "metadata": {
    "scrolled": true
   },
   "outputs": [
    {
     "data": {
      "text/plain": [
       "<matplotlib.axes._subplots.AxesSubplot at 0x13fcc12d0>"
      ]
     },
     "execution_count": 572,
     "metadata": {},
     "output_type": "execute_result"
    },
    {
     "data": {
      "image/png": "[encoded data removed]",
      "text/plain": [
       "<Figure size 432x288 with 1 Axes>"
      ]
     },
     "metadata": {
      "needs_background": "light"
     },
     "output_type": "display_data"
    }
   ],
   "source": [
    "seaborn.distplot(data['G1'], color=\"b\")"
   ]
  },
  {
   "cell_type": "code",
   "execution_count": 573,
   "metadata": {},
   "outputs": [
    {
     "data": {
      "text/plain": [
       "<matplotlib.axes._subplots.AxesSubplot at 0x13fe92050>"
      ]
     },
     "execution_count": 573,
     "metadata": {},
     "output_type": "execute_result"
    },
    {
     "data": {
      "image/png": "[encoded data removed]",
      "text/plain": [
       "<Figure size 432x288 with 1 Axes>"
      ]
     },
     "metadata": {
      "needs_background": "light"
     },
     "output_type": "display_data"
    }
   ],
   "source": [
    "seaborn.distplot(data['G2'], color=\"g\")"
   ]
  },
  {
   "cell_type": "code",
   "execution_count": 574,
   "metadata": {
    "scrolled": true
   },
   "outputs": [
    {
     "data": {
      "text/plain": [
       "<matplotlib.axes._subplots.AxesSubplot at 0x13ffa6fd0>"
      ]
     },
     "execution_count": 574,
     "metadata": {},
     "output_type": "execute_result"
    },
    {
     "data": {
      "image/png": "[encoded data removed]",
      "text/plain": [
       "<Figure size 432x288 with 1 Axes>"
      ]
     },
     "metadata": {
      "needs_background": "light"
     },
     "output_type": "display_data"
    }
   ],
   "source": [
    "seaborn.distplot(data['G3'], color=\"r\")"
   ]
  },
  {
   "cell_type": "markdown",
   "metadata": {},
   "source": [
    "**Вывод:** \n",
    "\n",
    "Средняя плотность распределения оценок сохраняется в обоиз полугодиях и в итоговых оценках. \n",
    "\n",
    "В итоговых оценках нулевых оценок становится почти в три раза больше, чем во втором полугодии. Количество хороших оценок в итоге уменьшается. Все как в жизни."
   ]
  },
  {
   "cell_type": "markdown",
   "metadata": {},
   "source": [
    "**Плотность оценок по португальскому языку**"
   ]
  },
  {
   "cell_type": "code",
   "execution_count": 575,
   "metadata": {},
   "outputs": [],
   "source": [
    "por_marks = data.loc[data['Subject']=='Por', ['G1', 'G2', 'G3']]"
   ]
  },
  {
   "cell_type": "code",
   "execution_count": 576,
   "metadata": {
    "scrolled": false
   },
   "outputs": [
    {
     "data": {
      "image/png": "[encoded data removed]",
      "text/plain": [
       "<Figure size 432x288 with 1 Axes>"
      ]
     },
     "metadata": {
      "needs_background": "light"
     },
     "output_type": "display_data"
    }
   ],
   "source": [
    "plt.boxplot([por_marks['G1'], por_marks['G2'], por_marks['G3']])\n",
    "plt.show()"
   ]
  },
  {
   "cell_type": "code",
   "execution_count": 577,
   "metadata": {},
   "outputs": [
    {
     "data": {
      "text/plain": [
       "<matplotlib.axes._subplots.AxesSubplot at 0x14146aed0>"
      ]
     },
     "execution_count": 577,
     "metadata": {},
     "output_type": "execute_result"
    },
    {
     "data": {
      "image/png": "[encoded data removed]",
      "text/plain": [
       "<Figure size 432x288 with 3 Axes>"
      ]
     },
     "metadata": {
      "needs_background": "light"
     },
     "output_type": "display_data"
    }
   ],
   "source": [
    "pylab.subplot (2, 2, 1)\n",
    "seaborn.distplot(por_marks['G1'], color='b')\n",
    "pylab.subplot (2, 2, 2)\n",
    "seaborn.distplot(por_marks['G2'], color='g')\n",
    "pylab.subplot (2, 2, 3)\n",
    "seaborn.distplot(por_marks['G3'], color='r')"
   ]
  },
  {
   "cell_type": "markdown",
   "metadata": {},
   "source": [
    "**Плотность оценок по математике**"
   ]
  },
  {
   "cell_type": "code",
   "execution_count": 578,
   "metadata": {},
   "outputs": [],
   "source": [
    "math_marks= data.loc[data['Subject']=='Math', ['G1', 'G2', 'G3']]"
   ]
  },
  {
   "cell_type": "code",
   "execution_count": 579,
   "metadata": {},
   "outputs": [
    {
     "data": {
      "image/png": "[encoded data removed]",
      "text/plain": [
       "<Figure size 432x288 with 1 Axes>"
      ]
     },
     "metadata": {
      "needs_background": "light"
     },
     "output_type": "display_data"
    }
   ],
   "source": [
    "plt.boxplot([math_marks['G1'], math_marks['G2'], math_marks['G3']])\n",
    "plt.show()"
   ]
  },
  {
   "cell_type": "code",
   "execution_count": 580,
   "metadata": {},
   "outputs": [
    {
     "data": {
      "text/plain": [
       "<matplotlib.axes._subplots.AxesSubplot at 0x1432eabd0>"
      ]
     },
     "execution_count": 580,
     "metadata": {},
     "output_type": "execute_result"
    },
    {
     "data": {
      "image/png": "[encoded data removed]",
      "text/plain": [
       "<Figure size 432x288 with 3 Axes>"
      ]
     },
     "metadata": {
      "needs_background": "light"
     },
     "output_type": "display_data"
    }
   ],
   "source": [
    "pylab.subplot (2, 2, 1)\n",
    "seaborn.distplot(math_marks['G1'], color='b')\n",
    "pylab.subplot (2, 2, 2)\n",
    "seaborn.distplot(math_marks['G2'], color='g')\n",
    "pylab.subplot (2, 2, 3)\n",
    "seaborn.distplot(math_marks['G3'], color='r')"
   ]
  },
  {
   "cell_type": "markdown",
   "metadata": {},
   "source": [
    "**Вывод:**\n",
    "\n",
    "- Итоговые оценки и оценки за полугодия учеников по математике гораздо ниже, чем по португальскому\n",
    "- Среди итоговых оценок по математике увеличивается количество низких оценок и уменьшается количество высоких оценок. По португальскому языку наоборот количество высоких оценок в итоге увеличивается. "
   ]
  },
  {
   "cell_type": "markdown",
   "metadata": {},
   "source": [
    "### Задание 5  \n",
    "  \n",
    "Оцените попарные зависимости числовых признаков.  \n",
    "Рассчитайте и провизуализируйте матрицу корреляций. Дайте содержательный комментарий."
   ]
  },
  {
   "cell_type": "code",
   "execution_count": 581,
   "metadata": {
    "scrolled": false
   },
   "outputs": [
    {
     "data": {
      "text/plain": [
       "<seaborn.axisgrid.PairGrid at 0x1438bb350>"
      ]
     },
     "execution_count": 581,
     "metadata": {},
     "output_type": "execute_result"
    },
    {
     "data": {
      "image/png": "[encoded data removed]",
      "text/plain": [
       "<Figure size 1080x1080 with 42 Axes>"
      ]
     },
     "metadata": {
      "needs_background": "light"
     },
     "output_type": "display_data"
    }
   ],
   "source": [
    "seaborn.pairplot(data.loc[:,numeric[1:]])"
   ]
  },
  {
   "cell_type": "code",
   "execution_count": 582,
   "metadata": {},
   "outputs": [
    {
     "data": {
      "text/html": [
       "<div>\n",
       "<style scoped>\n",
       "    .dataframe tbody tr th:only-of-type {\n",
       "        vertical-align: middle;\n",
       "    }\n",
       "\n",
       "    .dataframe tbody tr th {\n",
       "        vertical-align: top;\n",
       "    }\n",
       "\n",
       "    .dataframe thead th {\n",
       "        text-align: right;\n",
       "    }\n",
       "</style>\n",
       "<table border=\"1\" class=\"dataframe\">\n",
       "  <thead>\n",
       "    <tr style=\"text-align: right;\">\n",
       "      <th></th>\n",
       "      <th>ID</th>\n",
       "      <th>age</th>\n",
       "      <th>failures</th>\n",
       "      <th>absences</th>\n",
       "      <th>G1</th>\n",
       "      <th>G2</th>\n",
       "      <th>G3</th>\n",
       "    </tr>\n",
       "  </thead>\n",
       "  <tbody>\n",
       "    <tr>\n",
       "      <th>ID</th>\n",
       "      <td>1.000</td>\n",
       "      <td>0.008</td>\n",
       "      <td>0.011</td>\n",
       "      <td>-0.041</td>\n",
       "      <td>0.045</td>\n",
       "      <td>0.023</td>\n",
       "      <td>0.015</td>\n",
       "    </tr>\n",
       "    <tr>\n",
       "      <th>age</th>\n",
       "      <td>0.008</td>\n",
       "      <td>1.000</td>\n",
       "      <td>0.282</td>\n",
       "      <td>0.153</td>\n",
       "      <td>-0.124</td>\n",
       "      <td>-0.119</td>\n",
       "      <td>-0.125</td>\n",
       "    </tr>\n",
       "    <tr>\n",
       "      <th>failures</th>\n",
       "      <td>0.011</td>\n",
       "      <td>0.282</td>\n",
       "      <td>1.000</td>\n",
       "      <td>0.100</td>\n",
       "      <td>-0.374</td>\n",
       "      <td>-0.377</td>\n",
       "      <td>-0.383</td>\n",
       "    </tr>\n",
       "    <tr>\n",
       "      <th>absences</th>\n",
       "      <td>-0.041</td>\n",
       "      <td>0.153</td>\n",
       "      <td>0.100</td>\n",
       "      <td>1.000</td>\n",
       "      <td>-0.092</td>\n",
       "      <td>-0.089</td>\n",
       "      <td>-0.046</td>\n",
       "    </tr>\n",
       "    <tr>\n",
       "      <th>G1</th>\n",
       "      <td>0.045</td>\n",
       "      <td>-0.124</td>\n",
       "      <td>-0.374</td>\n",
       "      <td>-0.092</td>\n",
       "      <td>1.000</td>\n",
       "      <td>0.859</td>\n",
       "      <td>0.809</td>\n",
       "    </tr>\n",
       "    <tr>\n",
       "      <th>G2</th>\n",
       "      <td>0.023</td>\n",
       "      <td>-0.119</td>\n",
       "      <td>-0.377</td>\n",
       "      <td>-0.089</td>\n",
       "      <td>0.859</td>\n",
       "      <td>1.000</td>\n",
       "      <td>0.911</td>\n",
       "    </tr>\n",
       "    <tr>\n",
       "      <th>G3</th>\n",
       "      <td>0.015</td>\n",
       "      <td>-0.125</td>\n",
       "      <td>-0.383</td>\n",
       "      <td>-0.046</td>\n",
       "      <td>0.809</td>\n",
       "      <td>0.911</td>\n",
       "      <td>1.000</td>\n",
       "    </tr>\n",
       "  </tbody>\n",
       "</table>\n",
       "</div>"
      ],
      "text/plain": [
       "             ID    age  failures  absences     G1     G2     G3\n",
       "ID        1.000  0.008  0.011    -0.041     0.045  0.023  0.015\n",
       "age       0.008  1.000  0.282     0.153    -0.124 -0.119 -0.125\n",
       "failures  0.011  0.282  1.000     0.100    -0.374 -0.377 -0.383\n",
       "absences -0.041  0.153  0.100     1.000    -0.092 -0.089 -0.046\n",
       "G1        0.045 -0.124 -0.374    -0.092     1.000  0.859  0.809\n",
       "G2        0.023 -0.119 -0.377    -0.089     0.859  1.000  0.911\n",
       "G3        0.015 -0.125 -0.383    -0.046     0.809  0.911  1.000"
      ]
     },
     "execution_count": 582,
     "metadata": {},
     "output_type": "execute_result"
    }
   ],
   "source": [
    "data[numeric].corr().round(decimals=3)"
   ]
  },
  {
   "cell_type": "markdown",
   "metadata": {},
   "source": [
    "**Вывод:**\n",
    "\n",
    "1. Есть зависимость между оценками за первое и второе полугодия и итоговыми\n",
    "2. Чем больше пропусков у студента, там хуже становятся у него оценки\n",
    "3. Чем старше студент, тем меньше у него пропусков\n",
    "4. Самые старшие студенты имели больше всего провалов и хуже оценки\n",
    "5. 20 летние студенты справлялись с учебой лучше всего\n",
    "6. Чем больше студент прогуливал, тем меньше у него провалов (справедливо)\n",
    "7. Чаще всего прогуливали студенты с оценкой от 8 до 12"
   ]
  },
  {
   "cell_type": "markdown",
   "metadata": {},
   "source": [
    "### Задание 6  \n",
    "  \n",
    "Оцените попарные зависимости нечисловых (категориальных) признаков, дайте содержательный комментарий. "
   ]
  },
  {
   "cell_type": "markdown",
   "metadata": {},
   "source": [
    "Для этого задания я решила выбрать **не все** категориальные признаки, а только **некоторые пары** из них, так как они будут нести **больше смысла** и приведут к **более интересным выводам**."
   ]
  },
  {
   "cell_type": "code",
   "execution_count": 583,
   "metadata": {
    "scrolled": true
   },
   "outputs": [
    {
     "data": {
      "text/plain": [
       "<matplotlib.axes._subplots.AxesSubplot at 0x15314d690>"
      ]
     },
     "execution_count": 583,
     "metadata": {},
     "output_type": "execute_result"
    },
    {
     "data": {
      "image/png": "[encoded data removed]",
      "text/plain": [
       "<Figure size 432x288 with 1 Axes>"
      ]
     },
     "metadata": {
      "needs_background": "light"
     },
     "output_type": "display_data"
    }
   ],
   "source": [
    "seaborn.countplot(x=\"internet\", hue=\"romantic\", data=data)"
   ]
  },
  {
   "cell_type": "markdown",
   "metadata": {},
   "source": [
    "- Среди тех студентов, у которых есть доступ к интернету, больше тех, кто состоит в отношениях."
   ]
  },
  {
   "cell_type": "code",
   "execution_count": 584,
   "metadata": {
    "scrolled": true
   },
   "outputs": [
    {
     "data": {
      "text/plain": [
       "<matplotlib.axes._subplots.AxesSubplot at 0x1532205d0>"
      ]
     },
     "execution_count": 584,
     "metadata": {},
     "output_type": "execute_result"
    },
    {
     "data": {
      "image/png": "[encoded data removed]",
      "text/plain": [
       "<Figure size 432x288 with 1 Axes>"
      ]
     },
     "metadata": {
      "needs_background": "light"
     },
     "output_type": "display_data"
    }
   ],
   "source": [
    "seaborn.countplot(x=\"reason\", hue=\"activities\", data=data)"
   ]
  },
  {
   "cell_type": "markdown",
   "metadata": {},
   "source": [
    "- Среди студентов, которые выбирали школу по ее репутации, больше тех, кто участвует во внеучебных активностях. \n",
    "- Те, кто выбирал школу по читаемым курсам, реже всего участвуют во внеучебных активностях. "
   ]
  },
  {
   "cell_type": "code",
   "execution_count": 585,
   "metadata": {},
   "outputs": [
    {
     "data": {
      "text/plain": [
       "<matplotlib.axes._subplots.AxesSubplot at 0x1412b9b10>"
      ]
     },
     "execution_count": 585,
     "metadata": {},
     "output_type": "execute_result"
    },
    {
     "data": {
      "image/png": "[encoded data removed]",
      "text/plain": [
       "<Figure size 432x288 with 1 Axes>"
      ]
     },
     "metadata": {
      "needs_background": "light"
     },
     "output_type": "display_data"
    }
   ],
   "source": [
    "seaborn.countplot(x=\"famsup\", hue=\"Pstatus\", data=data)"
   ]
  },
  {
   "cell_type": "markdown",
   "metadata": {},
   "source": [
    "- Отношения между родителями не влияетс на помощь в учебе от членов семьи."
   ]
  },
  {
   "cell_type": "code",
   "execution_count": 586,
   "metadata": {},
   "outputs": [
    {
     "data": {
      "text/plain": [
       "<matplotlib.axes._subplots.AxesSubplot at 0x14c82ca50>"
      ]
     },
     "execution_count": 586,
     "metadata": {},
     "output_type": "execute_result"
    },
    {
     "data": {
      "image/png": "[encoded data removed]",
      "text/plain": [
       "<Figure size 432x288 with 1 Axes>"
      ]
     },
     "metadata": {
      "needs_background": "light"
     },
     "output_type": "display_data"
    }
   ],
   "source": [
    "seaborn.countplot(x=\"reason\", hue=\"address\", data=data)"
   ]
  },
  {
   "cell_type": "markdown",
   "metadata": {},
   "source": [
    "- Студенты, живущие в городе, и студенты, живущие за городом, чаще всего выбирали школу по читаемым курсам. \n",
    "- Студенты, живущие за городом, реже всего выбирали школу по ее местоположению относительно дома. "
   ]
  },
  {
   "cell_type": "code",
   "execution_count": 587,
   "metadata": {
    "scrolled": true
   },
   "outputs": [
    {
     "data": {
      "text/plain": [
       "<matplotlib.axes._subplots.AxesSubplot at 0x14c9169d0>"
      ]
     },
     "execution_count": 587,
     "metadata": {},
     "output_type": "execute_result"
    },
    {
     "data": {
      "image/png": "[encoded data removed]",
      "text/plain": [
       "<Figure size 432x288 with 1 Axes>"
      ]
     },
     "metadata": {
      "needs_background": "light"
     },
     "output_type": "display_data"
    }
   ],
   "source": [
    "seaborn.countplot(x=\"sex\", hue=\"higher\", data=data)"
   ]
  },
  {
   "cell_type": "markdown",
   "metadata": {},
   "source": [
    "- Среди тех, кто решил получать высшее образование, больше девушек. \n",
    "- Среди тех, кто решил не получать высшее образование, больше парней."
   ]
  },
  {
   "cell_type": "code",
   "execution_count": 588,
   "metadata": {},
   "outputs": [
    {
     "data": {
      "text/plain": [
       "<matplotlib.axes._subplots.AxesSubplot at 0x1537808d0>"
      ]
     },
     "execution_count": 588,
     "metadata": {},
     "output_type": "execute_result"
    },
    {
     "data": {
      "image/png": "[encoded data removed]",
      "text/plain": [
       "<Figure size 432x288 with 1 Axes>"
      ]
     },
     "metadata": {
      "needs_background": "light"
     },
     "output_type": "display_data"
    }
   ],
   "source": [
    "seaborn.countplot(x=\"internet\", hue=\"activities\", data=data)"
   ]
  },
  {
   "cell_type": "markdown",
   "metadata": {},
   "source": [
    "- Большинство тех, кто имеют доступ к интернету, участвуют во внеучебной активности. \n",
    "- Большинство тех, кто **не имеют** доступ к интернету, **не участвуют** во внеучебной активности."
   ]
  },
  {
   "cell_type": "code",
   "execution_count": 589,
   "metadata": {
    "scrolled": true
   },
   "outputs": [
    {
     "data": {
      "text/plain": [
       "<matplotlib.axes._subplots.AxesSubplot at 0x1538b4310>"
      ]
     },
     "execution_count": 589,
     "metadata": {},
     "output_type": "execute_result"
    },
    {
     "data": {
      "image/png": "[encoded data removed]",
      "text/plain": [
       "<Figure size 432x288 with 1 Axes>"
      ]
     },
     "metadata": {
      "needs_background": "light"
     },
     "output_type": "display_data"
    }
   ],
   "source": [
    "seaborn.countplot(x=\"sex\", hue=\"famsup\", data=data)"
   ]
  },
  {
   "cell_type": "markdown",
   "metadata": {},
   "source": [
    "- Члены семьи активнее помогают по учебе девушкам, нежели парням. Возможно, можно сделать вывод, что девушки чаще просят помощи по учебе, в отличие от парней."
   ]
  },
  {
   "cell_type": "code",
   "execution_count": 590,
   "metadata": {},
   "outputs": [
    {
     "data": {
      "text/plain": [
       "<matplotlib.axes._subplots.AxesSubplot at 0x15399cd50>"
      ]
     },
     "execution_count": 590,
     "metadata": {},
     "output_type": "execute_result"
    },
    {
     "data": {
      "image/png": "[encoded data removed]",
      "text/plain": [
       "<Figure size 432x288 with 1 Axes>"
      ]
     },
     "metadata": {
      "needs_background": "light"
     },
     "output_type": "display_data"
    }
   ],
   "source": [
    "seaborn.countplot(x=\"address\", hue=\"nursery\", data=data)"
   ]
  },
  {
   "cell_type": "markdown",
   "metadata": {},
   "source": [
    "- Большинство студентов, ходившие в детский сад, живут в городе."
   ]
  },
  {
   "cell_type": "code",
   "execution_count": 591,
   "metadata": {},
   "outputs": [
    {
     "data": {
      "text/plain": [
       "<matplotlib.axes._subplots.AxesSubplot at 0x153a98c50>"
      ]
     },
     "execution_count": 591,
     "metadata": {},
     "output_type": "execute_result"
    },
    {
     "data": {
      "image/png": "[encoded data removed]",
      "text/plain": [
       "<Figure size 432x288 with 1 Axes>"
      ]
     },
     "metadata": {
      "needs_background": "light"
     },
     "output_type": "display_data"
    }
   ],
   "source": [
    "seaborn.countplot(x=\"sex\", hue=\"romantic\", data=data)"
   ]
  },
  {
   "cell_type": "markdown",
   "metadata": {},
   "source": [
    "- Процент тех девушек, которые состоят в отношениях, выше процента парней, которые состоят в отношениях."
   ]
  },
  {
   "cell_type": "markdown",
   "metadata": {},
   "source": [
    "### Задание  7  \n",
    "  \n",
    "* Оцените, есть ли разница в употреблении алкоголя между парнями и девушками. Кто пьет больше?\n",
    "* Оцените связь употребления алкоголя с признаками: address, Pstatus, higher, romantic, freetime. \n",
    "* Оцените связь употребления алкоголя с уровнем образования опекуна (для случаев, где это известно).\n",
    "* Сравните употребление алкоголя для 50 лучших учеников и 50 худших (по `G3`). Выполните сравнение отдельно для каждого предмета (`Math` и `Por`). Дайте содержательный комментарий.  \n",
    "  \n",
    "**Tip:** для выполнения задания пригодятся боксплоты и гистограммы. "
   ]
  },
  {
   "cell_type": "markdown",
   "metadata": {},
   "source": [
    "**Оцените, есть ли разница в употреблении алкоголя между парнями и девушками. Кто пьет больше?**"
   ]
  },
  {
   "cell_type": "code",
   "execution_count": 592,
   "metadata": {},
   "outputs": [
    {
     "data": {
      "image/png": "[encoded data removed]",
      "text/plain": [
       "<Figure size 432x288 with 1 Axes>"
      ]
     },
     "metadata": {
      "needs_background": "light"
     },
     "output_type": "display_data"
    }
   ],
   "source": [
    "alc_average = []\n",
    "for i in range(len(data.loc[:, ['Walc', 'Dalc']])):\n",
    "    alc_average.append((alc['Walc'][i] + alc['Dalc'][i]) / 2)\n",
    "data['Average_alc'] = alc_average\n",
    "plt.boxplot([data.loc[data['sex']=='M', 'Average_alc'], data.loc[data['sex']=='F', 'Average_alc']])\n",
    "plt.show()"
   ]
  },
  {
   "cell_type": "code",
   "execution_count": 593,
   "metadata": {},
   "outputs": [
    {
     "name": "stdout",
     "output_type": "stream",
     "text": [
      "По шкале употребления алкоголя от 1 до 5, где 1 - очень мало, 5 - очень много: \n",
      "Парни выпивают 2.0\n",
      "Девушки выпивают 1.5\n"
     ]
    }
   ],
   "source": [
    "print('По шкале употребления алкоголя от 1 до 5, где 1 - очень мало, 5 - очень много: ')\n",
    "print(f\"Парни выпивают {data.loc[data['sex']=='M', 'Average_alc'].median()}\")\n",
    "print(f\"Девушки выпивают {data.loc[data['sex']=='F', 'Average_alc'].median()}\")"
   ]
  },
  {
   "cell_type": "markdown",
   "metadata": {},
   "source": [
    "**Оцените связь употребления алкоголя с признаками: address, Pstatus, higher, romantic, freetime.**"
   ]
  },
  {
   "cell_type": "code",
   "execution_count": 594,
   "metadata": {
    "scrolled": false
   },
   "outputs": [
    {
     "data": {
      "text/plain": [
       "<matplotlib.axes._subplots.AxesSubplot at 0x153a90a90>"
      ]
     },
     "execution_count": 594,
     "metadata": {},
     "output_type": "execute_result"
    },
    {
     "data": {
      "image/png": "[encoded data removed]",
      "text/plain": [
       "<Figure size 432x288 with 1 Axes>"
      ]
     },
     "metadata": {
      "needs_background": "light"
     },
     "output_type": "display_data"
    }
   ],
   "source": [
    "seaborn.barplot(data=data, y='Average_alc', x='address', estimator=np.mean)"
   ]
  },
  {
   "cell_type": "markdown",
   "metadata": {},
   "source": [
    "- Больше алкоголя употребляют те студенты, которые живут за городом."
   ]
  },
  {
   "cell_type": "code",
   "execution_count": 595,
   "metadata": {
    "scrolled": true
   },
   "outputs": [
    {
     "data": {
      "text/plain": [
       "<matplotlib.axes._subplots.AxesSubplot at 0x153e16b90>"
      ]
     },
     "execution_count": 595,
     "metadata": {},
     "output_type": "execute_result"
    },
    {
     "data": {
      "image/png": "[encoded data removed]",
      "text/plain": [
       "<Figure size 432x288 with 1 Axes>"
      ]
     },
     "metadata": {
      "needs_background": "light"
     },
     "output_type": "display_data"
    }
   ],
   "source": [
    "seaborn.barplot(data=data, y='Average_alc', x='Pstatus', estimator=np.mean)"
   ]
  },
  {
   "cell_type": "markdown",
   "metadata": {},
   "source": [
    "- Больше алкоголя употребляют те студенты, у которых родители живут отдельно."
   ]
  },
  {
   "cell_type": "code",
   "execution_count": 596,
   "metadata": {
    "scrolled": true
   },
   "outputs": [
    {
     "data": {
      "text/plain": [
       "<matplotlib.axes._subplots.AxesSubplot at 0x153ed3550>"
      ]
     },
     "execution_count": 596,
     "metadata": {},
     "output_type": "execute_result"
    },
    {
     "data": {
      "image/png": "[encoded data removed]",
      "text/plain": [
       "<Figure size 432x288 with 1 Axes>"
      ]
     },
     "metadata": {
      "needs_background": "light"
     },
     "output_type": "display_data"
    }
   ],
   "source": [
    "seaborn.barplot(data=data, y='Average_alc', x='higher', estimator=np.mean)"
   ]
  },
  {
   "cell_type": "markdown",
   "metadata": {},
   "source": [
    "- Больше алкоголя употребляют те студенты, которые решили не получать высшее образование."
   ]
  },
  {
   "cell_type": "code",
   "execution_count": 597,
   "metadata": {
    "scrolled": false
   },
   "outputs": [
    {
     "data": {
      "text/plain": [
       "<matplotlib.axes._subplots.AxesSubplot at 0x15400cfd0>"
      ]
     },
     "execution_count": 597,
     "metadata": {},
     "output_type": "execute_result"
    },
    {
     "data": {
      "image/png": "[encoded data removed]",
      "text/plain": [
       "<Figure size 432x288 with 1 Axes>"
      ]
     },
     "metadata": {
      "needs_background": "light"
     },
     "output_type": "display_data"
    }
   ],
   "source": [
    "seaborn.barplot(data=data, y='Average_alc', x='romantic', estimator=np.mean)"
   ]
  },
  {
   "cell_type": "markdown",
   "metadata": {},
   "source": [
    "- В основном, наличие или отсутствие романтических отношений не влияет на употребление алкоголя, но по графику едва заментно, что те, кто состоит в отношениях, употребляют несколько больше алкоголя (но разница едва заметна)"
   ]
  },
  {
   "cell_type": "code",
   "execution_count": 598,
   "metadata": {
    "scrolled": false
   },
   "outputs": [
    {
     "data": {
      "text/plain": [
       "<matplotlib.axes._subplots.AxesSubplot at 0x1540d7810>"
      ]
     },
     "execution_count": 598,
     "metadata": {},
     "output_type": "execute_result"
    },
    {
     "data": {
      "image/png": "[encoded data removed]",
      "text/plain": [
       "<Figure size 432x288 with 1 Axes>"
      ]
     },
     "metadata": {
      "needs_background": "light"
     },
     "output_type": "display_data"
    }
   ],
   "source": [
    "seaborn.barplot(data=data, y='Average_alc', x='freetime', estimator=np.mean)"
   ]
  },
  {
   "cell_type": "markdown",
   "metadata": {},
   "source": [
    "- Больше алкоголя употребляют те, у кого больше свободного времени."
   ]
  },
  {
   "cell_type": "markdown",
   "metadata": {},
   "source": [
    "**Оцените связь употребления алкоголя с уровнем образования опекуна (для случаев, где это известно).**"
   ]
  },
  {
   "cell_type": "code",
   "execution_count": 599,
   "metadata": {},
   "outputs": [],
   "source": [
    "alc_m = data.loc[data['guardian'] == 'mother', ['Average_alc','Medu']]\n",
    "alc_f = data.loc[data['guardian'] == 'father', ['Average_alc','Fedu']]"
   ]
  },
  {
   "cell_type": "code",
   "execution_count": 600,
   "metadata": {
    "scrolled": true
   },
   "outputs": [
    {
     "data": {
      "text/plain": [
       "<matplotlib.axes._subplots.AxesSubplot at 0x1542f8f50>"
      ]
     },
     "execution_count": 600,
     "metadata": {},
     "output_type": "execute_result"
    },
    {
     "data": {
      "image/png": "[encoded data removed]",
      "text/plain": [
       "<Figure size 432x288 with 2 Axes>"
      ]
     },
     "metadata": {
      "needs_background": "light"
     },
     "output_type": "display_data"
    }
   ],
   "source": [
    "pylab.subplot (2, 1, 1)\n",
    "seaborn.barplot(data=alc_m, y='Average_alc', x='Medu', estimator=np.mean)\n",
    "pylab.subplot (2, 1, 2)\n",
    "seaborn.barplot(data=alc_f, y='Average_alc', x='Fedu', estimator=np.mean)"
   ]
  },
  {
   "cell_type": "markdown",
   "metadata": {},
   "source": [
    "- Среди матерей больше алкоголя употребляют те, кто без образования. Меньше всего употребляют матери, закончившие от 5 до 9 классов.\n",
    "- Уровень образования отцов не влияет на количество употребляемого алкоголя :D"
   ]
  },
  {
   "cell_type": "markdown",
   "metadata": {},
   "source": [
    "**Сравните употребление алкоголя для 50 лучших учеников и 50 худших (по G3). Выполните сравнение отдельно для каждого предмета (Math и Por). Дайте содержательный комментарий.**"
   ]
  },
  {
   "cell_type": "code",
   "execution_count": 601,
   "metadata": {
    "scrolled": true
   },
   "outputs": [
    {
     "data": {
      "image/png": "[encoded data removed]",
      "text/plain": [
       "<Figure size 432x288 with 1 Axes>"
      ]
     },
     "metadata": {
      "needs_background": "light"
     },
     "output_type": "display_data"
    }
   ],
   "source": [
    "plt.boxplot([data.nlargest(50, 'G3')['Average_alc'], data.nsmallest(50, 'G3')['Average_alc']])\n",
    "plt.show()"
   ]
  },
  {
   "cell_type": "code",
   "execution_count": 602,
   "metadata": {},
   "outputs": [
    {
     "name": "stdout",
     "output_type": "stream",
     "text": [
      "Среднее потребление алкоголя \"отличниками\":  1.25\n",
      "Среднее потребление алкоголя \"двоечниками\":  1.5\n"
     ]
    }
   ],
   "source": [
    "print('Среднее потребление алкоголя \"отличниками\": ',data.nlargest(50, 'G3')['Average_alc'].median())\n",
    "print('Среднее потребление алкоголя \"двоечниками\": ', data.nsmallest(50, 'G3')['Average_alc'].median())"
   ]
  },
  {
   "cell_type": "markdown",
   "metadata": {},
   "source": [
    "- \"Двоечники\" употребляют алкоголь чуть больше, чем отличники"
   ]
  },
  {
   "cell_type": "markdown",
   "metadata": {},
   "source": [
    "### Задание 8     \n",
    "  \n",
    "Оцените зависимость итоговой оценки от следующих признаков: \n",
    "  \n",
    "* Пола\n",
    "* Времени в пути от дома до школы\n",
    "* Наличия дополнительной помощи в учебе (от членов семьи или вообще)\n",
    "* Посещения платных дополнительных занятий\n",
    "* Наличия интернета\n",
    "* Наличия романтических отношений\n",
    "* Употребления алкоголя  "
   ]
  },
  {
   "cell_type": "code",
   "execution_count": 603,
   "metadata": {},
   "outputs": [
    {
     "data": {
      "image/png": "[encoded data removed]",
      "text/plain": [
       "<Figure size 432x288 with 1 Axes>"
      ]
     },
     "metadata": {
      "needs_background": "light"
     },
     "output_type": "display_data"
    }
   ],
   "source": [
    "# - Зависимость от пола\n",
    "plt.boxplot([data.loc[data['sex']=='M', 'G3'], data.loc[data['sex']=='F', 'G3']])\n",
    "plt.show()"
   ]
  },
  {
   "cell_type": "markdown",
   "metadata": {},
   "source": [
    "- Средняя оценка выше у девушек\n",
    "- Наивысший и наинизший балл выше у парней."
   ]
  },
  {
   "cell_type": "code",
   "execution_count": 604,
   "metadata": {},
   "outputs": [
    {
     "data": {
      "text/plain": [
       "<matplotlib.axes._subplots.AxesSubplot at 0x154596d50>"
      ]
     },
     "execution_count": 604,
     "metadata": {},
     "output_type": "execute_result"
    },
    {
     "data": {
      "image/png": "[encoded data removed]",
      "text/plain": [
       "<Figure size 432x288 with 1 Axes>"
      ]
     },
     "metadata": {
      "needs_background": "light"
     },
     "output_type": "display_data"
    }
   ],
   "source": [
    "# - Зависимость от времени в пути от дома до школы\n",
    "seaborn.barplot(data=data, y='G3', x='traveltime', estimator=np.median)"
   ]
  },
  {
   "cell_type": "markdown",
   "metadata": {},
   "source": [
    "- Чем ближе студент живет к школе, тем выше его итоговая оценка."
   ]
  },
  {
   "cell_type": "code",
   "execution_count": 605,
   "metadata": {},
   "outputs": [
    {
     "data": {
      "text/plain": [
       "<matplotlib.axes._subplots.AxesSubplot at 0x1546a45d0>"
      ]
     },
     "execution_count": 605,
     "metadata": {},
     "output_type": "execute_result"
    },
    {
     "data": {
      "image/png": "[encoded data removed]",
      "text/plain": [
       "<Figure size 432x288 with 1 Axes>"
      ]
     },
     "metadata": {
      "needs_background": "light"
     },
     "output_type": "display_data"
    }
   ],
   "source": [
    "# - Зависимость от наличия дополнительной помощи в учебе (от членов семьи или вообще)\n",
    "seaborn.barplot(data=data, y='G3', x='famsup', estimator=np.mean)"
   ]
  },
  {
   "cell_type": "markdown",
   "metadata": {},
   "source": [
    "- Помощь в учебе от членов семьи не влияет на итоговую оценку студента."
   ]
  },
  {
   "cell_type": "code",
   "execution_count": 606,
   "metadata": {},
   "outputs": [
    {
     "data": {
      "text/plain": [
       "<matplotlib.axes._subplots.AxesSubplot at 0x1547ac790>"
      ]
     },
     "execution_count": 606,
     "metadata": {},
     "output_type": "execute_result"
    },
    {
     "data": {
      "image/png": "[encoded data removed]",
      "text/plain": [
       "<Figure size 432x288 with 1 Axes>"
      ]
     },
     "metadata": {
      "needs_background": "light"
     },
     "output_type": "display_data"
    }
   ],
   "source": [
    "# - Зависимость от посещения платных дополнительных занятий\n",
    "seaborn.barplot(data=data, y='G3', x='paid', estimator=np.mean)"
   ]
  },
  {
   "cell_type": "markdown",
   "metadata": {},
   "source": [
    "- Студенты, не посещающие платные дополнительные занятия, получают более высокие оценки."
   ]
  },
  {
   "cell_type": "code",
   "execution_count": 607,
   "metadata": {
    "scrolled": true
   },
   "outputs": [
    {
     "data": {
      "text/plain": [
       "<matplotlib.axes._subplots.AxesSubplot at 0x1548ebd10>"
      ]
     },
     "execution_count": 607,
     "metadata": {},
     "output_type": "execute_result"
    },
    {
     "data": {
      "image/png": "[encoded data removed]",
      "text/plain": [
       "<Figure size 432x288 with 1 Axes>"
      ]
     },
     "metadata": {
      "needs_background": "light"
     },
     "output_type": "display_data"
    }
   ],
   "source": [
    "# - Зависимость от наличия интернета\n",
    "seaborn.barplot(data=data, y='G3', x='internet', estimator=np.mean)"
   ]
  },
  {
   "cell_type": "markdown",
   "metadata": {},
   "source": [
    "- Студенты, имеющие доступ в Интернет, более успешны в учебе."
   ]
  },
  {
   "cell_type": "code",
   "execution_count": 608,
   "metadata": {
    "scrolled": false
   },
   "outputs": [
    {
     "data": {
      "text/plain": [
       "<matplotlib.axes._subplots.AxesSubplot at 0x1549a0f10>"
      ]
     },
     "execution_count": 608,
     "metadata": {},
     "output_type": "execute_result"
    },
    {
     "data": {
      "image/png": "[encoded data removed]",
      "text/plain": [
       "<Figure size 432x288 with 1 Axes>"
      ]
     },
     "metadata": {
      "needs_background": "light"
     },
     "output_type": "display_data"
    }
   ],
   "source": [
    "# - Зависимость от наличия романтических отношений\n",
    "seaborn.barplot(data=data, y='G3', x='romantic', estimator=np.mean)"
   ]
  },
  {
   "cell_type": "markdown",
   "metadata": {},
   "source": [
    "- Студеты не состоящие в романтических отношениях, получают более высокие оценки."
   ]
  },
  {
   "cell_type": "code",
   "execution_count": 609,
   "metadata": {},
   "outputs": [
    {
     "data": {
      "text/plain": [
       "<matplotlib.axes._subplots.AxesSubplot at 0x154addd10>"
      ]
     },
     "execution_count": 609,
     "metadata": {},
     "output_type": "execute_result"
    },
    {
     "data": {
      "image/png": "[encoded data removed]",
      "text/plain": [
       "<Figure size 432x288 with 1 Axes>"
      ]
     },
     "metadata": {
      "needs_background": "light"
     },
     "output_type": "display_data"
    }
   ],
   "source": [
    "# - Зависимость от употребления алкоголя\n",
    "seaborn.swarmplot(data=data, y='G3', x='Average_alc')"
   ]
  },
  {
   "cell_type": "markdown",
   "metadata": {},
   "source": [
    "- Студенты, употребляющие меньше всего алкоголя, получают оценки выше, чем те, кто употребляет алкоголь очень часто."
   ]
  },
  {
   "cell_type": "markdown",
   "metadata": {},
   "source": [
    "### Задание 9  \n",
    "  \n",
    "Добавьте в данные новый признак - итоговая оценка по 4-х балльной шкале:  \n",
    "\n",
    "* Отлично: 18 <= `G3` <= 20\n",
    "* Хорошо: 14 <= `G3` <= 17\n",
    "* Удовлетворительно: 8 <= `G3` <= 13\n",
    "* Неудовлетворительно: `G3` < 8  \n",
    "  \n",
    "Оцените распределение нового признака в зависимости от признака `reason` (причина выбора школы). Дайте содержательный комментарий. "
   ]
  },
  {
   "cell_type": "code",
   "execution_count": 610,
   "metadata": {},
   "outputs": [],
   "source": [
    "def to_4p(gr):\n",
    "    return {\n",
    "         gr <  8  : 1,\n",
    "    8  <= gr <= 13: 2,\n",
    "    14 <= gr <= 17: 3,\n",
    "    18 <= gr <= 20: 4\n",
    "    }[1]"
   ]
  },
  {
   "cell_type": "code",
   "execution_count": 611,
   "metadata": {},
   "outputs": [
    {
     "data": {
      "text/plain": [
       "<matplotlib.axes._subplots.AxesSubplot at 0x154c9ee90>"
      ]
     },
     "execution_count": 611,
     "metadata": {},
     "output_type": "execute_result"
    },
    {
     "data": {
      "image/png": "[encoded data removed]",
      "text/plain": [
       "<Figure size 432x288 with 1 Axes>"
      ]
     },
     "metadata": {
      "needs_background": "light"
     },
     "output_type": "display_data"
    }
   ],
   "source": [
    "data['G3_4p'] =  data.loc[:, 'G3'].map(to_4p)\n",
    "seaborn.barplot(data=data, y=\"G3_4p\", x=\"reason\")"
   ]
  },
  {
   "cell_type": "markdown",
   "metadata": {},
   "source": [
    "- Итоговая оценка лучше у тех студентов, кто выбирал школу по ее репутации"
   ]
  },
  {
   "cell_type": "markdown",
   "metadata": {},
   "source": [
    "### Задание  10 <a id=\"task10\"></a>  \n",
    "  \n",
    "Часть из представленных в данных студентов посещали оба курса - `Math` и `Por`.  \n",
    "* Предложите способ идентификации студентов и определите тех, кто посещал оба курса. Сколько таких студентов?  \n",
    "* Для этих студентов сравните оценки по двум предметам, дайте комментарий.  \n",
    "  \n",
    "**Note:** Столбец `ID` является уникальным идентификатором наблюдения, но не студента. Он будет уникален для каждой строки."
   ]
  },
  {
   "cell_type": "code",
   "execution_count": null,
   "metadata": {},
   "outputs": [],
   "source": []
  },
  {
   "cell_type": "markdown",
   "metadata": {},
   "source": [
    "### Задание 11  \n",
    "  \n",
    "Предложите простую модель для определения (предсказания) итоговой оценки студента по 4-х балльной системе. Оцените точность предложенной модели. "
   ]
  },
  {
   "cell_type": "code",
   "execution_count": 612,
   "metadata": {},
   "outputs": [
    {
     "data": {
      "text/plain": [
       "<matplotlib.axes._subplots.AxesSubplot at 0x154e3df50>"
      ]
     },
     "execution_count": 612,
     "metadata": {},
     "output_type": "execute_result"
    },
    {
     "data": {
      "image/png": "[encoded data removed]",
      "text/plain": [
       "<Figure size 432x288 with 2 Axes>"
      ]
     },
     "metadata": {
      "needs_background": "light"
     },
     "output_type": "display_data"
    }
   ],
   "source": [
    "# Например, с помощью графика плотности\n",
    "pylab.subplot (2, 1, 1)\n",
    "seaborn.distplot(data[\"G3\"])\n",
    "pylab.subplot (2, 1, 2)\n",
    "seaborn.distplot(data[\"G3_4p\"])"
   ]
  },
  {
   "cell_type": "code",
   "execution_count": null,
   "metadata": {},
   "outputs": [],
   "source": []
  }
 ],
 "metadata": {
  "kernelspec": {
   "display_name": "Python 3",
   "language": "python",
   "name": "python3"
  },
  "language_info": {
   "codemirror_mode": {
    "name": "ipython",
    "version": 3
   },
   "file_extension": ".py",
   "mimetype": "text/x-python",
   "name": "python",
   "nbconvert_exporter": "python",
   "pygments_lexer": "ipython3",
   "version": "3.7.4"
  }
 },
 "nbformat": 4,
 "nbformat_minor": 1
}
